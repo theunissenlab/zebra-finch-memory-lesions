{
 "cells": [
  {
   "cell_type": "markdown",
   "metadata": {},
   "source": [
    "# How do lesions to NCM affect performance in this memory task?\n",
    "\n",
    "We look at (1) overall odds ratio during full test days (Song 8v8 and DC 6v6) before and after lesion, and (2) the effect of the lesion on learning curves.\n",
    "\n",
    "## Contents\n",
    "\n",
    "1. Change in odds ratios as a function of lesion size\n",
    "  - songs\n",
    "  - dcs\n",
    "2. Effect of lesions on first (2) informative trials\n",
    "3. Effect of lesions on learning curves"
   ]
  },
  {
   "cell_type": "code",
   "execution_count": 1,
   "metadata": {},
   "outputs": [],
   "source": [
    "import os\n",
    "import sys\n",
    "sys.path.append(os.path.join(os.getcwd(), \"..\", \"code\"))\n",
    "\n",
    "import matplotlib.pyplot as plt\n",
    "import numpy as np\n",
    "import pandas as pd\n",
    "from scipy.stats import pearsonr\n",
    "\n",
    "from load_data import (\n",
    "    load_behavioral_data,\n",
    "    load_lesion_data\n",
    ")\n",
    "from plotting import border, set_oddsratio_yticks\n",
    "from stats import (\n",
    "    bootstrap,\n",
    "    fisher_exact,\n",
    "    get_odds_ratio_matrix,\n",
    "    jackknife,\n",
    "    linreg,\n",
    ")\n",
    "\n",
    "%load_ext autoreload\n",
    "%autoreload 2"
   ]
  },
  {
   "cell_type": "code",
   "execution_count": 2,
   "metadata": {},
   "outputs": [],
   "source": [
    "trial_data = load_behavioral_data()"
   ]
  },
  {
   "cell_type": "code",
   "execution_count": 3,
   "metadata": {},
   "outputs": [],
   "source": [
    "lesion_data = load_lesion_data()"
   ]
  },
  {
   "cell_type": "markdown",
   "metadata": {},
   "source": [
    "## 1. Show overall odds ratios as a function of lesion size\n",
    "\n",
    "### First, summarize overall performance as an odds ratio\n",
    "\n",
    "This code taken nearly verbatim from https://github.com/theunissenlab/zebra-finch-memory"
   ]
  },
  {
   "cell_type": "code",
   "execution_count": 4,
   "metadata": {},
   "outputs": [],
   "source": [
    "performance_df_rows = []\n",
    "for subject in lesion_data[\"Subject\"]:\n",
    "    subject_df = trial_data[\n",
    "        (trial_data[\"Subject\"] == subject)\n",
    "    ]\n",
    "    \n",
    "    for ctx, condition in [\n",
    "                (\"SovsSo_8v8_d2\", \"PrelesionSet1\"),\n",
    "                (\"DCvsDC_6v6_d2\", \"PrelesionSet1\"),\n",
    "                (\"SovsSo_8v8_d2\", \"PostlesionSet1\"),\n",
    "                (\"DCvsDC_6v6_d2\", \"PostlesionSet1\"),\n",
    "                (\"SovsSo_8v8_d2_S2\", \"PostlesionSet2\"),\n",
    "                (\"DCvsDC_6v6_d2_S2\", \"PostlesionSet2\"),\n",
    "            ]:\n",
    "        ctx_df = subject_df[(subject_df[\"Test Context\"] == ctx) & (subject_df[\"Ladder Group\"] == condition)]\n",
    "\n",
    "        rewarded_set = ctx_df[ctx_df[\"Stimulus Class\"] == \"Rewarded\"]\n",
    "        nonrewarded_set = ctx_df[ctx_df[\"Stimulus Class\"] == \"Nonrewarded\"]\n",
    "\n",
    "        table = get_odds_ratio_matrix(nonrewarded_set, rewarded_set, \"Interrupt\")\n",
    "        odds, interval95, p_value = fisher_exact(table, side=\"greater\")\n",
    "        se_logor = np.sqrt(\n",
    "            np.sum(1 / table)\n",
    "        )\n",
    "\n",
    "        performance_df_rows.append(\n",
    "            [\n",
    "                subject, ctx, condition, odds, interval95[0], interval95[1], np.log(odds), se_logor, p_value, \n",
    "            ]\n",
    "        )\n",
    "\n",
    "performance_df = pd.DataFrame(\n",
    "    performance_df_rows,\n",
    "    columns=[\"Subject\", \"Test Context\", \"Ladder Group\", \"Odds Ratio\", \"95 CI Lower\", \"95 CI Upper\", \"LogOR\", \"SE(LogOR)\", \"p-value\"]\n",
    ")"
   ]
  },
  {
   "cell_type": "code",
   "execution_count": 5,
   "metadata": {},
   "outputs": [],
   "source": [
    "lesions_by_performance_df = lesion_data.merge(performance_df, on=\"Subject\")"
   ]
  },
  {
   "cell_type": "code",
   "execution_count": 6,
   "metadata": {},
   "outputs": [
    {
     "data": {
      "text/html": [
       "<div>\n",
       "<style scoped>\n",
       "    .dataframe tbody tr th:only-of-type {\n",
       "        vertical-align: middle;\n",
       "    }\n",
       "\n",
       "    .dataframe tbody tr th {\n",
       "        vertical-align: top;\n",
       "    }\n",
       "\n",
       "    .dataframe thead th {\n",
       "        text-align: right;\n",
       "    }\n",
       "</style>\n",
       "<table border=\"1\" class=\"dataframe\">\n",
       "  <thead>\n",
       "    <tr style=\"text-align: right;\">\n",
       "      <th></th>\n",
       "      <th>Subject</th>\n",
       "      <th>Date_Lesioned</th>\n",
       "      <th>LH_Lesion_Size</th>\n",
       "      <th>RH_Lesion_Size</th>\n",
       "      <th>Total_Lesion_Size</th>\n",
       "      <th>Hippocampus_Affected</th>\n",
       "      <th>Test Context</th>\n",
       "      <th>Ladder Group</th>\n",
       "      <th>Odds Ratio</th>\n",
       "      <th>95 CI Lower</th>\n",
       "      <th>95 CI Upper</th>\n",
       "      <th>LogOR</th>\n",
       "      <th>SE(LogOR)</th>\n",
       "      <th>p-value</th>\n",
       "    </tr>\n",
       "  </thead>\n",
       "  <tbody>\n",
       "    <tr>\n",
       "      <th>0</th>\n",
       "      <td>GraWhi4040F</td>\n",
       "      <td>2019-06-25</td>\n",
       "      <td>76082075</td>\n",
       "      <td>253347900</td>\n",
       "      <td>329429975</td>\n",
       "      <td>False</td>\n",
       "      <td>SovsSo_8v8_d2</td>\n",
       "      <td>PrelesionSet1</td>\n",
       "      <td>8.372638</td>\n",
       "      <td>5.463430</td>\n",
       "      <td>inf</td>\n",
       "      <td>2.124969</td>\n",
       "      <td>0.262190</td>\n",
       "      <td>6.881266e-22</td>\n",
       "    </tr>\n",
       "    <tr>\n",
       "      <th>1</th>\n",
       "      <td>GraWhi4040F</td>\n",
       "      <td>2019-06-25</td>\n",
       "      <td>76082075</td>\n",
       "      <td>253347900</td>\n",
       "      <td>329429975</td>\n",
       "      <td>False</td>\n",
       "      <td>DCvsDC_6v6_d2</td>\n",
       "      <td>PrelesionSet1</td>\n",
       "      <td>9.013190</td>\n",
       "      <td>6.519035</td>\n",
       "      <td>inf</td>\n",
       "      <td>2.198689</td>\n",
       "      <td>0.197821</td>\n",
       "      <td>1.052477e-34</td>\n",
       "    </tr>\n",
       "    <tr>\n",
       "      <th>2</th>\n",
       "      <td>GraWhi4040F</td>\n",
       "      <td>2019-06-25</td>\n",
       "      <td>76082075</td>\n",
       "      <td>253347900</td>\n",
       "      <td>329429975</td>\n",
       "      <td>False</td>\n",
       "      <td>SovsSo_8v8_d2</td>\n",
       "      <td>PostlesionSet1</td>\n",
       "      <td>2.474424</td>\n",
       "      <td>1.873942</td>\n",
       "      <td>inf</td>\n",
       "      <td>0.906008</td>\n",
       "      <td>0.169541</td>\n",
       "      <td>1.377995e-08</td>\n",
       "    </tr>\n",
       "    <tr>\n",
       "      <th>3</th>\n",
       "      <td>GraWhi4040F</td>\n",
       "      <td>2019-06-25</td>\n",
       "      <td>76082075</td>\n",
       "      <td>253347900</td>\n",
       "      <td>329429975</td>\n",
       "      <td>False</td>\n",
       "      <td>DCvsDC_6v6_d2</td>\n",
       "      <td>PostlesionSet1</td>\n",
       "      <td>2.979033</td>\n",
       "      <td>2.274227</td>\n",
       "      <td>inf</td>\n",
       "      <td>1.091599</td>\n",
       "      <td>0.164532</td>\n",
       "      <td>5.639628e-12</td>\n",
       "    </tr>\n",
       "    <tr>\n",
       "      <th>4</th>\n",
       "      <td>GraWhi4040F</td>\n",
       "      <td>2019-06-25</td>\n",
       "      <td>76082075</td>\n",
       "      <td>253347900</td>\n",
       "      <td>329429975</td>\n",
       "      <td>False</td>\n",
       "      <td>SovsSo_8v8_d2_S2</td>\n",
       "      <td>PostlesionSet2</td>\n",
       "      <td>4.369207</td>\n",
       "      <td>3.162899</td>\n",
       "      <td>inf</td>\n",
       "      <td>1.474581</td>\n",
       "      <td>0.197195</td>\n",
       "      <td>2.683568e-15</td>\n",
       "    </tr>\n",
       "    <tr>\n",
       "      <th>5</th>\n",
       "      <td>GraWhi4040F</td>\n",
       "      <td>2019-06-25</td>\n",
       "      <td>76082075</td>\n",
       "      <td>253347900</td>\n",
       "      <td>329429975</td>\n",
       "      <td>False</td>\n",
       "      <td>DCvsDC_6v6_d2_S2</td>\n",
       "      <td>PostlesionSet2</td>\n",
       "      <td>3.950162</td>\n",
       "      <td>3.016068</td>\n",
       "      <td>inf</td>\n",
       "      <td>1.373757</td>\n",
       "      <td>0.164403</td>\n",
       "      <td>1.222543e-17</td>\n",
       "    </tr>\n",
       "    <tr>\n",
       "      <th>6</th>\n",
       "      <td>XXXHpi0038M</td>\n",
       "      <td>2019-06-26</td>\n",
       "      <td>147836250</td>\n",
       "      <td>63015600</td>\n",
       "      <td>210851850</td>\n",
       "      <td>False</td>\n",
       "      <td>SovsSo_8v8_d2</td>\n",
       "      <td>PrelesionSet1</td>\n",
       "      <td>18.913151</td>\n",
       "      <td>12.587575</td>\n",
       "      <td>inf</td>\n",
       "      <td>2.939857</td>\n",
       "      <td>0.249287</td>\n",
       "      <td>4.851571e-42</td>\n",
       "    </tr>\n",
       "    <tr>\n",
       "      <th>7</th>\n",
       "      <td>XXXHpi0038M</td>\n",
       "      <td>2019-06-26</td>\n",
       "      <td>147836250</td>\n",
       "      <td>63015600</td>\n",
       "      <td>210851850</td>\n",
       "      <td>False</td>\n",
       "      <td>DCvsDC_6v6_d2</td>\n",
       "      <td>PrelesionSet1</td>\n",
       "      <td>12.717170</td>\n",
       "      <td>9.702200</td>\n",
       "      <td>inf</td>\n",
       "      <td>2.542953</td>\n",
       "      <td>0.164922</td>\n",
       "      <td>8.018391e-63</td>\n",
       "    </tr>\n",
       "    <tr>\n",
       "      <th>8</th>\n",
       "      <td>XXXHpi0038M</td>\n",
       "      <td>2019-06-26</td>\n",
       "      <td>147836250</td>\n",
       "      <td>63015600</td>\n",
       "      <td>210851850</td>\n",
       "      <td>False</td>\n",
       "      <td>SovsSo_8v8_d2</td>\n",
       "      <td>PostlesionSet1</td>\n",
       "      <td>22.538041</td>\n",
       "      <td>14.732104</td>\n",
       "      <td>inf</td>\n",
       "      <td>3.115205</td>\n",
       "      <td>0.260764</td>\n",
       "      <td>6.334177e-46</td>\n",
       "    </tr>\n",
       "    <tr>\n",
       "      <th>9</th>\n",
       "      <td>XXXHpi0038M</td>\n",
       "      <td>2019-06-26</td>\n",
       "      <td>147836250</td>\n",
       "      <td>63015600</td>\n",
       "      <td>210851850</td>\n",
       "      <td>False</td>\n",
       "      <td>DCvsDC_6v6_d2</td>\n",
       "      <td>PostlesionSet1</td>\n",
       "      <td>13.138754</td>\n",
       "      <td>8.017707</td>\n",
       "      <td>inf</td>\n",
       "      <td>2.575566</td>\n",
       "      <td>0.304032</td>\n",
       "      <td>2.192383e-23</td>\n",
       "    </tr>\n",
       "  </tbody>\n",
       "</table>\n",
       "</div>"
      ],
      "text/plain": [
       "       Subject Date_Lesioned  LH_Lesion_Size  RH_Lesion_Size  \\\n",
       "0  GraWhi4040F    2019-06-25        76082075       253347900   \n",
       "1  GraWhi4040F    2019-06-25        76082075       253347900   \n",
       "2  GraWhi4040F    2019-06-25        76082075       253347900   \n",
       "3  GraWhi4040F    2019-06-25        76082075       253347900   \n",
       "4  GraWhi4040F    2019-06-25        76082075       253347900   \n",
       "5  GraWhi4040F    2019-06-25        76082075       253347900   \n",
       "6  XXXHpi0038M    2019-06-26       147836250        63015600   \n",
       "7  XXXHpi0038M    2019-06-26       147836250        63015600   \n",
       "8  XXXHpi0038M    2019-06-26       147836250        63015600   \n",
       "9  XXXHpi0038M    2019-06-26       147836250        63015600   \n",
       "\n",
       "   Total_Lesion_Size  Hippocampus_Affected      Test Context    Ladder Group  \\\n",
       "0          329429975                 False     SovsSo_8v8_d2   PrelesionSet1   \n",
       "1          329429975                 False     DCvsDC_6v6_d2   PrelesionSet1   \n",
       "2          329429975                 False     SovsSo_8v8_d2  PostlesionSet1   \n",
       "3          329429975                 False     DCvsDC_6v6_d2  PostlesionSet1   \n",
       "4          329429975                 False  SovsSo_8v8_d2_S2  PostlesionSet2   \n",
       "5          329429975                 False  DCvsDC_6v6_d2_S2  PostlesionSet2   \n",
       "6          210851850                 False     SovsSo_8v8_d2   PrelesionSet1   \n",
       "7          210851850                 False     DCvsDC_6v6_d2   PrelesionSet1   \n",
       "8          210851850                 False     SovsSo_8v8_d2  PostlesionSet1   \n",
       "9          210851850                 False     DCvsDC_6v6_d2  PostlesionSet1   \n",
       "\n",
       "   Odds Ratio  95 CI Lower  95 CI Upper     LogOR  SE(LogOR)       p-value  \n",
       "0    8.372638     5.463430          inf  2.124969   0.262190  6.881266e-22  \n",
       "1    9.013190     6.519035          inf  2.198689   0.197821  1.052477e-34  \n",
       "2    2.474424     1.873942          inf  0.906008   0.169541  1.377995e-08  \n",
       "3    2.979033     2.274227          inf  1.091599   0.164532  5.639628e-12  \n",
       "4    4.369207     3.162899          inf  1.474581   0.197195  2.683568e-15  \n",
       "5    3.950162     3.016068          inf  1.373757   0.164403  1.222543e-17  \n",
       "6   18.913151    12.587575          inf  2.939857   0.249287  4.851571e-42  \n",
       "7   12.717170     9.702200          inf  2.542953   0.164922  8.018391e-63  \n",
       "8   22.538041    14.732104          inf  3.115205   0.260764  6.334177e-46  \n",
       "9   13.138754     8.017707          inf  2.575566   0.304032  2.192383e-23  "
      ]
     },
     "execution_count": 6,
     "metadata": {},
     "output_type": "execute_result"
    }
   ],
   "source": [
    "lesions_by_performance_df.head(10)"
   ]
  },
  {
   "cell_type": "markdown",
   "metadata": {},
   "source": [
    "### Summarize effect of lesion as ratio between post- and pre-lesion odds ratios\n",
    "\n",
    "The Total_Lesion_Size column is measured in cubic microns - convert it to cubic mm in the new table."
   ]
  },
  {
   "cell_type": "code",
   "execution_count": 7,
   "metadata": {},
   "outputs": [],
   "source": [
    "# Collapse the rows belonging to the same test context by subject\n",
    "\n",
    "results = []\n",
    "ladder_set_grouper = lesions_by_performance_df[\n",
    "    lesions_by_performance_df[\"Ladder Group\"] == \"PostlesionSet1\"\n",
    "].groupby([\"Subject\", \"Test Context\"])\n",
    "\n",
    "for (subject, ctx), subj_df in ladder_set_grouper:\n",
    "    prelesion_OR = lesions_by_performance_df[\n",
    "        (lesions_by_performance_df[\"Subject\"] == subject)\n",
    "        & (lesions_by_performance_df[\"Ladder Group\"] == \"PrelesionSet1\")\n",
    "        & (lesions_by_performance_df[\"Test Context\"] == ctx)\n",
    "    ].iloc[0][\"Odds Ratio\"]\n",
    "    postlesion_OR = subj_df[subj_df[\"Ladder Group\"] == \"PostlesionSet1\"].iloc[0][\"Odds Ratio\"]\n",
    "    \n",
    "    results.append({\n",
    "        \"call_type\": \"So\" if ctx == \"SovsSo_8v8_d2\" else \"DC\",\n",
    "        \"OR_ratio\": postlesion_OR / prelesion_OR,\n",
    "        \"Lesion\": subj_df.iloc[0][\"Total_Lesion_Size\"] * 1e-9\n",
    "    })\n",
    "results = pd.DataFrame(results)"
   ]
  },
  {
   "cell_type": "code",
   "execution_count": 8,
   "metadata": {},
   "outputs": [],
   "source": [
    "def overlay_regression(x, lin, r_adj, cc, ax=None):\n",
    "    if ax is None:\n",
    "        ax = plt.gca()\n",
    "        \n",
    "    xarr = np.linspace(np.min(x), np.max(x) * 1.1, 3)\n",
    "    ax.plot(xarr, 2 ** lin(xarr), color=\"Grey\", linestyle=\"--\")\n",
    "    ax.text(\n",
    "        1,\n",
    "        1,\n",
    "        \"$R^2_{{adj}} = {:.2f}$\\n$CC = {:.2f}$\".format(r_adj, cc), \n",
    "        verticalalignment=\"top\", \n",
    "        horizontalalignment=\"right\",\n",
    "        transform=ax.transAxes\n",
    "    )\n",
    "\n",
    "def lesion_analysis(df, ax=None):\n",
    "    \"\"\"Plot and regress the odds ratio vs lesion volume\n",
    "    \"\"\"\n",
    "    if ax is None:\n",
    "        ax = plt.gca()\n",
    "\n",
    "    # Do a linear regression\n",
    "    popt, pcov, lin, r_squared, r_adj, sigma_ab = linreg(df[\"Lesion\"], np.log2(df[\"OR_ratio\"]))\n",
    "    cc, _ = pearsonr(df[\"Lesion\"], np.log2(df[\"OR_ratio\"]))\n",
    "    \n",
    "    ax.scatter(\n",
    "        df[\"Lesion\"],\n",
    "        df[\"OR_ratio\"],\n",
    "        color=\"Black\",\n",
    "        s=80\n",
    "    )\n",
    "    \n",
    "    # Plot best fit line\n",
    "    overlay_regression(df[\"Lesion\"], lin, r_adj, cc, ax=ax)\n",
    "    ax.set_ylabel(r\"$\\frac{OR_{post}}{OR_{pre}}$\", fontsize=24, rotation=0, verticalalignment=\"center\", horizontalalignment=\"right\")\n",
    "    ax.set_xlabel(\"Lesion Size ($mm^3$)\", fontsize=20)\n",
    "    border(ax, 1, 0, 0, 1)\n",
    "    return r_adj, cc"
   ]
  },
  {
   "cell_type": "markdown",
   "metadata": {},
   "source": [
    "### Small effect of NCM lesion size on Song performance\n",
    "\n",
    "$OR_{pre}$ is the odds ratio as measured on the last 2 days of the (5-day) ladder without lesion, when the subjects were tested on 8v8 songs. $OR_{post}$ is the odds ratio measured after surgery/lesion during which the subjects were tested on the same 8v8 set. This typically is approximately 1 or 2 weeks after the $OR_{pre}$ was measured. After surgery/lesion and a short recovery period, they get 1 day of refresher on one stim from the set (1v1) and then 2 days of the 8v8 set. The odds ratio is only measured on the 8v8 days.\n",
    "\n",
    "Lesion sizes were estimated by a researcher in histological slices. This researcher was blinded to the experimental condition of each subject.\n",
    "\n",
    "The $R^2$ and correlation coefficient are measured with linear regression, modeling $\\log_2(\\frac{OR_{post}}{OR_{pre}}) = a V_{lesion} + b$"
   ]
  },
  {
   "cell_type": "code",
   "execution_count": 9,
   "metadata": {},
   "outputs": [
    {
     "data": {
      "image/png": "[encoded data removed]",
      "text/plain": [
       "<Figure size 216x216 with 1 Axes>"
      ]
     },
     "metadata": {
      "needs_background": "light"
     },
     "output_type": "display_data"
    }
   ],
   "source": [
    "fig = plt.figure(figsize=(3, 3))\n",
    "r_adj, cc = lesion_analysis(results.query(\"call_type == 'So'\"))\n",
    "plt.xticks(fontsize=14)\n",
    "set_oddsratio_yticks(plt.gca(), 3, -5, set_label=False)\n",
    "plt.show()\n",
    "plt.close(fig)"
   ]
  },
  {
   "cell_type": "markdown",
   "metadata": {},
   "source": [
    "### Strong effect of NCM lesion size on DC performance\n",
    "\n",
    "$OR_{pre}$ is the odds ratio as measured on the last 2 days of the (5-day) ladder without lesion, when the subjects were tested on 6v6 DCs. $OR_{post}$ is the odds ratio measured after surgery/lesion during which the subjects were tested on the same 6v6 set. This typically is approximately 1 or 2 weeks after the $OR_{pre}$ was measured. After surgery/lesion and a short recovery period, they get 1 day of refresher on one stim from the set (1v1) and then 2 days of the 6v6 set. The odds ratio is only measured on the 6v6 days.\n",
    "\n",
    "Lesion sizes were estimated by a researcher in histological slices. This researcher was blinded to the experimental condition of each subject.\n",
    "\n",
    "The $R^2$ and correlation coefficient are measured with linear regression, modeling $\\log_2(\\frac{OR_{post}}{OR_{pre}}) = a V_{lesion} + b$"
   ]
  },
  {
   "cell_type": "code",
   "execution_count": 10,
   "metadata": {},
   "outputs": [
    {
     "data": {
      "image/png": "[encoded data removed]",
      "text/plain": [
       "<Figure size 216x216 with 1 Axes>"
      ]
     },
     "metadata": {
      "needs_background": "light"
     },
     "output_type": "display_data"
    }
   ],
   "source": [
    "fig = plt.figure(figsize=(3, 3))\n",
    "r_adj, cc = lesion_analysis(results.query(\"call_type == 'DC'\"))\n",
    "set_oddsratio_yticks(plt.gca(), 2, -4, set_label=False)\n",
    "plt.show()\n",
    "plt.close(fig)"
   ]
  },
  {
   "cell_type": "markdown",
   "metadata": {},
   "source": [
    "### Learning new set after lesion\n",
    "\n",
    "After being retested on the stimulus sets from before lesion for 1 week (3 days Songs, 3 days DCs), the subjects were then tested on two new ladders, 8v8 songs S2 (set 2) and 6v6 DCs S2. Each ladder was one additional week, and none of the stimuli were previously presented or heard by the subjects before."
   ]
  },
  {
   "cell_type": "code",
   "execution_count": 11,
   "metadata": {},
   "outputs": [],
   "source": [
    "# Collapse the rows belonging to the same test context by subject\n",
    "\n",
    "new_set_results = []\n",
    "ladder_set_grouper = lesions_by_performance_df[\n",
    "    lesions_by_performance_df[\"Ladder Group\"] == \"PostlesionSet2\"\n",
    "].groupby([\"Subject\", \"Test Context\"])\n",
    "\n",
    "for (subject, ctx), subj_df in ladder_set_grouper:\n",
    "    assert ctx.endswith(\"S2\")\n",
    "    prelesion_OR = lesions_by_performance_df[\n",
    "        (lesions_by_performance_df[\"Subject\"] == subject)\n",
    "        & (lesions_by_performance_df[\"Ladder Group\"] == \"PrelesionSet1\")\n",
    "        & (lesions_by_performance_df[\"Test Context\"] == ctx[:-3])  # Strip the _S2 from end of ctx\n",
    "    ].iloc[0][\"Odds Ratio\"]\n",
    "    postlesion_OR = subj_df[subj_df[\"Ladder Group\"] == \"PostlesionSet2\"].iloc[0][\"Odds Ratio\"]\n",
    "    \n",
    "    new_set_results.append({\n",
    "        \"call_type\": \"So\" if ctx == \"SovsSo_8v8_d2_S2\" else \"DC\",\n",
    "        \"OR_ratio\": postlesion_OR / prelesion_OR,\n",
    "        \"Lesion\": subj_df.iloc[0][\"Total_Lesion_Size\"] / 1e-9\n",
    "    })\n",
    "new_set_results = pd.DataFrame(new_set_results)"
   ]
  },
  {
   "cell_type": "markdown",
   "metadata": {},
   "source": [
    "### New songs set after lesion\n",
    "\n",
    "$OR_{pre}$ is the odds ratio as measured on the last 2 days of the (5-day) ladder without lesion, when the subjects were tested on a set of 8v8 songs (S1). $OR_{new}$ is the odds ratio measured on the last 2 days of a new (5-day) ladder (S2) after surgery/lesion, with a different set of 8v8 songs. This typically is approximately 3 or 4 weeks after the $OR_{pre}$ was measured.\n",
    "\n",
    "The $R^2$ and correlation coefficient are measured with linear regression, modeling $\\log_2(\\frac{OR_{S2,les}}{OR_{S1}}) = a V_{lesion} + b$"
   ]
  },
  {
   "cell_type": "code",
   "execution_count": 12,
   "metadata": {},
   "outputs": [
    {
     "data": {
      "image/png": "[encoded data removed]",
      "text/plain": [
       "<Figure size 216x216 with 1 Axes>"
      ]
     },
     "metadata": {
      "needs_background": "light"
     },
     "output_type": "display_data"
    }
   ],
   "source": [
    "fig = plt.figure(figsize=(3, 3))\n",
    "r_adj, cc = lesion_analysis(new_set_results.query(\"call_type == 'So'\"))\n",
    "set_oddsratio_yticks(plt.gca(), 2, -5, set_label=False)\n",
    "plt.gca().set_ylabel(r\"$\\frac{OR_{S2,les}}{OR_{S1}}$\", fontsize=24, rotation=0, verticalalignment=\"center\", horizontalalignment=\"right\")\n",
    "plt.show()\n",
    "plt.close(fig)"
   ]
  },
  {
   "cell_type": "markdown",
   "metadata": {},
   "source": [
    "### New DCs set after lesion\n",
    "\n",
    "$OR_{S1}$ is the odds ratio as measured on the last 2 days of the (5-day) ladder without lesion, when the subjects were tested on a set of 6v6 DCs (S1). $OR_{S2,les}$ is the odds ratio measured on the last 2 days of a new (5-day) ladder (S2) after surgery/lesion, with a different set of 6v6 DCs. This typically is approximately 3 or 4 weeks after the $OR_{S1}$ was measured.\n",
    "\n",
    "The $R^2$ and correlation coefficient are measured with linear regression, modeling $\\log_2(\\frac{OR_{S2,les}}{OR_{S1}}) = a V_{lesion} + b$"
   ]
  },
  {
   "cell_type": "code",
   "execution_count": 13,
   "metadata": {},
   "outputs": [
    {
     "data": {
      "image/png": "[encoded data removed]",
      "text/plain": [
       "<Figure size 216x216 with 1 Axes>"
      ]
     },
     "metadata": {
      "needs_background": "light"
     },
     "output_type": "display_data"
    }
   ],
   "source": [
    "fig = plt.figure(figsize=(3, 3))\n",
    "r_adj, cc = lesion_analysis(new_set_results.query(\"call_type == 'DC'\"))\n",
    "set_oddsratio_yticks(plt.gca(), 2, -4)\n",
    "plt.gca().set_ylabel(r\"$\\frac{OR_{S2,les}}{OR_{S1}}$\", fontsize=24, rotation=0, verticalalignment=\"center\", horizontalalignment=\"right\")\n",
    "plt.show()\n",
    "plt.close(fig)"
   ]
  },
  {
   "cell_type": "markdown",
   "metadata": {},
   "source": [
    "## 2. Show if lesions have an effect on first exposures\n",
    "\n",
    "Again, informative trial code based on learning curve code from https://github.com/theunissenlab/zebra-finch-memory\n",
    "\n",
    "Learning curves plotted as an odds ratio between interrupting nonrewarded and rewarded vocalizers are generated as an average across subjects."
   ]
  },
  {
   "cell_type": "code",
   "execution_count": 14,
   "metadata": {},
   "outputs": [],
   "source": [
    "def inject_relative_informative_trials(df):\n",
    "    \"\"\"Takes a dataframe with a subset of trials and injects a column of \"Relative Informative Trials Seen\"\n",
    "    which indicates the number of informative trials seen by a subject for a given vocalizer in the\n",
    "    selected range\n",
    "    \"\"\"\n",
    "    df = df.copy()\n",
    "    df[\"Relative Informative Trials Seen\"] = df[\"Informative Trials Seen\"]\n",
    "    for (subj, vocalizer, call_type), subdf in df.groupby([\"Subject\", \"Stimulus Vocalizer\", \"Stimulus Call Type\"]):\n",
    "        df.loc[\n",
    "            subdf.index,\n",
    "            \"Relative Informative Trials Seen\"\n",
    "        ] -= subdf.iloc[0][\"Informative Trials Seen\"]\n",
    "    \n",
    "    return df\n",
    "\n",
    "def generate_informative_trial_dataframe(df, informative_trials):\n",
    "    \"\"\"Generate a dataframe with interruption data per bin per subject per stimulus\n",
    "    from the selected trials\n",
    "    \"\"\"\n",
    "    # The \"Informative Trials Seen\" column counts informative trials seen for a given stim across\n",
    "    # all sessions run for a subject. The given dataframe may only include trials from a selected\n",
    "    # epoch which may not include the first sessions. So we create a new \"Relative Informative Trials Seen\"\n",
    "    # column that shows number of informative trials seen relative to the start of the requested range.\n",
    "    df = inject_relative_informative_trials(df)\n",
    "    output_rows = []\n",
    "    for bin_idx in informative_trials:\n",
    "        bin_df = df[df[\"Relative Informative Trials Seen\"] == bin_idx]\n",
    "        for (subject, subject_sex, vocalizer, call_type, rewarded), stim_df in bin_df.groupby([\n",
    "                    \"Subject\", \"Subject Sex\", \"Stimulus Vocalizer\", \"Stimulus Call Type\", \"Stimulus Class\"\n",
    "                ]):\n",
    "            output_rows.append([\n",
    "                subject,\n",
    "                subject_sex,\n",
    "                vocalizer,\n",
    "                call_type,\n",
    "                rewarded,\n",
    "                bin_idx,\n",
    "                len(stim_df),\n",
    "                np.mean(stim_df[\"Interrupt\"])  # This should be just 1 / len(stim_df)\n",
    "            ])\n",
    "            \n",
    "    return pd.DataFrame(output_rows, columns=[\"Subject\", \"Subject Sex\", \"Stimulus Vocalizer\", \"Stimulus Call Type\",\n",
    "            \"Stimulus Class\", \"Relative Informative Trials Seen\", \"Bin Size\", \"p(interrupt)\"])\n",
    "\n",
    "def process_first_n_informative_trials(df, n=2):\n",
    "    \"\"\"Assess interruption rates and odds ratio in first n informative trials (inclusive)\n",
    "    \"\"\"\n",
    "    inform_df = generate_informative_trial_dataframe(df, np.arange(3))\n",
    "    # The following line ensures that we bin 0&1 into bin 0, 2&3 into bin 2, etc\n",
    "    subdf = inform_df[inform_df[\"Relative Informative Trials Seen\"] <= n]\n",
    "    re = subdf[subdf[\"Stimulus Class\"] == \"Rewarded\"]\n",
    "    nore = subdf[subdf[\"Stimulus Class\"] == \"Nonrewarded\"]\n",
    "    \n",
    "    if not len(re):\n",
    "        raise ValueError(\"No rewarded stimuli found\")\n",
    "    if not len(nore):\n",
    "        raise ValueError(\"No nonrewarded stimuli found\")\n",
    "\n",
    "    if len(re) != len(nore):\n",
    "        raise Exception(\"Different number of rewarded stimuli than nonrewarded\")\n",
    "\n",
    "    p_re, sem_re = jackknife(re[\"p(interrupt)\"], np.mean)\n",
    "    p_nore, sem_nore = jackknife(nore[\"p(interrupt)\"], np.mean)\n",
    "\n",
    "    if p_re == 0:\n",
    "        p_re = 0.5 / len(re[\"p(interrupt)\"])\n",
    "\n",
    "    if p_nore == 0:\n",
    "        p_nore = 0.5 / len(nore[\"p(interrupt)\"])\n",
    "\n",
    "    def _logor(p_re, p_nore):\n",
    "        p_re = np.mean(p_re)\n",
    "        p_nore = np.mean(p_nore)\n",
    "\n",
    "        if p_re == 0:\n",
    "            p_re = 0.5 / len(re[\"p(interrupt)\"])\n",
    "\n",
    "        if p_nore == 0:\n",
    "            p_nore = 0.5 / len(nore[\"p(interrupt)\"])\n",
    "\n",
    "        return np.log2(p_nore / (1 - p_nore)) - np.log2(p_re / (1 - p_re))\n",
    "\n",
    "    logor = _logor(re[\"p(interrupt)\"], nore[\"p(interrupt)\"])\n",
    "    logor_sem = bootstrap(_logor, re[\"p(interrupt)\"], nore[\"p(interrupt)\"])\n",
    "    \n",
    "    return {\n",
    "        \"p_re\": p_re,\n",
    "        \"p_nore\": p_nore,\n",
    "        \"sem_re\": sem_re,\n",
    "        \"sem_nore\": sem_nore,\n",
    "        \"logor\": logor,\n",
    "        \"logor_sem\": logor_sem\n",
    "    }"
   ]
  },
  {
   "cell_type": "code",
   "execution_count": 15,
   "metadata": {},
   "outputs": [],
   "source": [
    "valid_subjects = lesion_data[\"Subject\"]"
   ]
  },
  {
   "cell_type": "code",
   "execution_count": 16,
   "metadata": {},
   "outputs": [],
   "source": [
    "song_prelesion_early = trial_data[\n",
    "    (trial_data[\"Ladder Group\"] == \"PrelesionSet1\") &\n",
    "    (trial_data[\"Stimulus Call Type\"] == \"SO\")\n",
    "]\n",
    "song_prelesion_late = trial_data[\n",
    "    (trial_data[\"Ladder Group\"] == \"PrelesionSet1\") &\n",
    "    (trial_data[\"Stimulus Call Type\"] == \"SO\") &\n",
    "    (trial_data[\"Test Context\"] == \"SovsSo_8v8_d2\")\n",
    "]\n",
    "song_postlesion_early = trial_data[\n",
    "    (trial_data[\"Ladder Group\"] == \"PostlesionSet1\") &\n",
    "    (trial_data[\"Stimulus Call Type\"] == \"SO\")\n",
    "]\n",
    "song_postlesion_set2_early = trial_data[\n",
    "    (trial_data[\"Ladder Group\"] == \"PostlesionSet2\") &\n",
    "    (trial_data[\"Stimulus Call Type\"] == \"SO\")\n",
    "]\n",
    "song_postlesion_set2_late = trial_data[\n",
    "    (trial_data[\"Ladder Group\"] == \"PostlesionSet2\") &\n",
    "    (trial_data[\"Stimulus Call Type\"] == \"SO\") &\n",
    "    (trial_data[\"Test Context\"] == \"SovsSo_8v8_d2_S2\")\n",
    "]\n",
    "\n",
    "dc_prelesion_early = trial_data[\n",
    "    (trial_data[\"Ladder Group\"] == \"PrelesionSet1\") &\n",
    "    (trial_data[\"Stimulus Call Type\"] == \"DC\")\n",
    "]\n",
    "dc_prelesion_late = trial_data[\n",
    "    (trial_data[\"Ladder Group\"] == \"PrelesionSet1\") &\n",
    "    (trial_data[\"Stimulus Call Type\"] == \"DC\") &\n",
    "    (trial_data[\"Test Context\"] == \"DCvsDC_6v6_d2\")\n",
    "]\n",
    "dc_postlesion_early = trial_data[\n",
    "    (trial_data[\"Ladder Group\"] == \"PostlesionSet1\") &\n",
    "    (trial_data[\"Stimulus Call Type\"] == \"DC\")\n",
    "]\n",
    "dc_postlesion_set2_early = trial_data[\n",
    "    (trial_data[\"Ladder Group\"] == \"PostlesionSet2\") &\n",
    "    (trial_data[\"Stimulus Call Type\"] == \"DC\")\n",
    "]\n",
    "dc_postlesion_set2_late = trial_data[\n",
    "    (trial_data[\"Ladder Group\"] == \"PostlesionSet2\") &\n",
    "    (trial_data[\"Stimulus Call Type\"] == \"DC\") &\n",
    "    (trial_data[\"Test Context\"] == \"DCvsDC_6v6_d2_S2\")\n",
    "]"
   ]
  },
  {
   "cell_type": "markdown",
   "metadata": {},
   "source": [
    "## Plot the log odds ratio of first 2 informative trials pre and post lesion\n",
    "\n",
    "The first comparisons are prelesion S1 late versus postlesion S1 early. By limiting this to the first 2 informative trials (inclusive) This represents recall after lesion before there is a chance to relearn.\n",
    "\n",
    "The second comparison is and prelesion S1 early vs postlesion S2 early. If we limit the informative trials to something small but not too small (like, 4 informative trials?) is a proxy measure for how quickly stimuli can be learned.\n",
    "\n",
    "The values I will report is $2^{log_2{OR_{post}} - log_2{OR_{pre}}} = 2^{log_2{\\frac{OR_{post}}{OR_{pre}}}} = \\frac{OR_{post}}{OR_{pre}}$ (plotted on a log scale)"
   ]
  },
  {
   "cell_type": "code",
   "execution_count": 17,
   "metadata": {},
   "outputs": [],
   "source": [
    "song_set1_scatter_points = []\n",
    "for subject in valid_subjects:\n",
    "#     display(lesion_data[lesion_data[\"Subject\"] == subject])\n",
    "    row = lesion_data[lesion_data[\"Subject\"] == subject].iloc[0]\n",
    "    \n",
    "    prelesion_data = process_first_n_informative_trials(\n",
    "        song_prelesion_late[song_prelesion_late[\"Subject\"] == subject],\n",
    "        2\n",
    "    )\n",
    "    postlesion_data = process_first_n_informative_trials(\n",
    "        song_postlesion_early[song_postlesion_early[\"Subject\"] == subject],\n",
    "        2\n",
    "    )\n",
    "    \n",
    "    song_set1_scatter_points.append((\n",
    "        row[\"Total_Lesion_Size\"] / 1e9,\n",
    "        2 ** (postlesion_data[\"logor\"] - prelesion_data[\"logor\"])\n",
    "    ))\n",
    "\n",
    "song_set2_scatter_points = []\n",
    "for subject in valid_subjects:\n",
    "#     display(lesion_data[lesion_data[\"Subject\"] == subject])\n",
    "    row = lesion_data[lesion_data[\"Subject\"] == subject].iloc[0]\n",
    "    \n",
    "    prelesion_data = process_first_n_informative_trials(\n",
    "        song_prelesion_early[song_prelesion_early[\"Subject\"] == subject],\n",
    "        4\n",
    "    )\n",
    "    postlesion_data = process_first_n_informative_trials(\n",
    "        song_postlesion_set2_early[song_postlesion_set2_early[\"Subject\"] == subject],\n",
    "        4\n",
    "    )\n",
    "    \n",
    "    song_set2_scatter_points.append((\n",
    "        row[\"Total_Lesion_Size\"] / 1e9,\n",
    "        2 ** (postlesion_data[\"logor\"] - prelesion_data[\"logor\"])\n",
    "    ))"
   ]
  },
  {
   "cell_type": "code",
   "execution_count": 18,
   "metadata": {},
   "outputs": [],
   "source": [
    "dc_set1_scatter_points = []\n",
    "for subject in valid_subjects:\n",
    "#     display(lesion_data[lesion_data[\"Subject\"] == subject])\n",
    "    row = lesion_data[lesion_data[\"Subject\"] == subject].iloc[0]\n",
    "    \n",
    "    prelesion_data = process_first_n_informative_trials(\n",
    "        dc_prelesion_late[dc_prelesion_late[\"Subject\"] == subject],\n",
    "        2\n",
    "    )\n",
    "    postlesion_data = process_first_n_informative_trials(\n",
    "        dc_postlesion_early[dc_postlesion_early[\"Subject\"] == subject],\n",
    "        2\n",
    "    )\n",
    "    \n",
    "    dc_set1_scatter_points.append((\n",
    "        row[\"Total_Lesion_Size\"] / 1e9,\n",
    "        2 ** (postlesion_data[\"logor\"] - prelesion_data[\"logor\"])\n",
    "    ))\n",
    "\n",
    "dc_set2_scatter_points = []\n",
    "for subject in valid_subjects:\n",
    "#     display(lesion_data[lesion_data[\"Subject\"] == subject])\n",
    "    row = lesion_data[lesion_data[\"Subject\"] == subject].iloc[0]\n",
    "    \n",
    "    prelesion_data = process_first_n_informative_trials(\n",
    "        dc_prelesion_early[dc_prelesion_early[\"Subject\"] == subject],\n",
    "        4\n",
    "    )\n",
    "    postlesion_data = process_first_n_informative_trials(\n",
    "        dc_postlesion_set2_early[dc_postlesion_set2_early[\"Subject\"] == subject],\n",
    "        4\n",
    "    )\n",
    "    \n",
    "    dc_set2_scatter_points.append((\n",
    "        row[\"Total_Lesion_Size\"] / 1e9,\n",
    "        2 ** (postlesion_data[\"logor\"] - prelesion_data[\"logor\"])\n",
    "    ))"
   ]
  },
  {
   "cell_type": "markdown",
   "metadata": {},
   "source": [
    "### 1 Songs Recall\n",
    "\n",
    "This plot shows the performance on the first two informative trials (inclusive) during recall of S1 after lesion. $OR_{S1,pre,late}$ is the odds ratio as measured during the first two inforamtive trials (per stimulus vocalizer) starting from the full 8v8 songs d2. This is after they have had 1-3 days of experiece with the stimuli previously. $OR_{S1,post,early}$ is the odds ratio as measured during the first two informative trials after lesion, with no reinforcement between lesion time and the counting of informative trials. Thus this is performance on the previously learned stimuli without any opportunity for relearning.\n",
    "\n",
    "The ratio of these measures how much did their performance drop between lesion + recovery time.\n",
    "\n",
    "The $R^2$ and correlation coefficient are measured with linear regression, modeling $\\log_2(\\frac{OR_{S1,post,early}}{OR_{S1,pre,late}}) = a V_{lesion} + b$, where, again, the ORs are measured only during the first two informative trials per stim (inclusive)."
   ]
  },
  {
   "cell_type": "code",
   "execution_count": 19,
   "metadata": {},
   "outputs": [
    {
     "data": {
      "image/png": "[encoded data removed]",
      "text/plain": [
       "<Figure size 216x216 with 1 Axes>"
      ]
     },
     "metadata": {
      "needs_background": "light"
     },
     "output_type": "display_data"
    }
   ],
   "source": [
    "fig = plt.figure(figsize=(3, 3))\n",
    "plt.scatter(*zip(*song_set1_scatter_points), color=\"Black\", s=80)\n",
    "\n",
    "X, Y = np.array([[x, np.log2(y)] for x, y in song_set1_scatter_points]).T\n",
    "popt, pcov, lin, r_squared, r_adj, sigma_ab = linreg(X, Y)\n",
    "cc, _ = pearsonr(X, Y)\n",
    "overlay_regression(X, lin, r_adj, cc)\n",
    "\n",
    "set_oddsratio_yticks(plt.gca(), 2, -6, set_label=False)\n",
    "border(plt.gca(), 1, 0, 0, 1)\n",
    "plt.title(\"Recall of Set 1\\nvs\\nLearned Set 1\\n(\" + r\"$\\leq 2$\" + \" informative trials)\")\n",
    "plt.gca().set_ylabel(r\"$\\frac{OR_{S1,post,early}}{OR_{S1,pre,late}}$\", fontsize=24, rotation=0, verticalalignment=\"center\", horizontalalignment=\"right\")\n",
    "plt.show()\n",
    "plt.close(fig)\n",
    "plt.show()\n"
   ]
  },
  {
   "cell_type": "markdown",
   "metadata": {},
   "source": [
    "### 2 DCs Recall\n",
    "\n",
    "This plot shows the performance on the first two informative trials (inclusive) during recall of S1 after lesion. $OR_{S1,pre,late}$ is the odds ratio as measured during the first two inforamtive trials (per stimulus vocalizer) starting from the full 6v6 DCs d2. This is after they have had 1-3 days of experiece with the stimuli previously. $OR_{S1,post,early}$ is the odds ratio as measured during the first two informative trials after lesion, with no reinforcement between lesion time and the counting of informative trials. Thus this is performance on the previously learned stimuli without any opportunity for relearning.\n",
    "\n",
    "The ratio of these measures how much did their performance drop between lesion + recovery time.\n",
    "\n",
    "The $R^2$ and correlation coefficient are measured with linear regression, modeling $\\log_2(\\frac{OR_{S1,post,early}}{OR_{S1,pre,late}}) = a V_{lesion} + b$, where, again, the ORs are measured only during the first two informative trials per stim (inclusive)."
   ]
  },
  {
   "cell_type": "code",
   "execution_count": 20,
   "metadata": {},
   "outputs": [
    {
     "data": {
      "image/png": "[encoded data removed]",
      "text/plain": [
       "<Figure size 216x216 with 1 Axes>"
      ]
     },
     "metadata": {
      "needs_background": "light"
     },
     "output_type": "display_data"
    }
   ],
   "source": [
    "fig = plt.figure(figsize=(3, 3))\n",
    "plt.scatter(*zip(*dc_set1_scatter_points), color=\"Black\", s=80)\n",
    "\n",
    "X, Y = np.array([[x, np.log2(y)] for x, y in dc_set1_scatter_points]).T\n",
    "popt, pcov, lin, r_squared, r_adj, sigma_ab = linreg(X, Y)\n",
    "cc, _ = pearsonr(X, Y)\n",
    "overlay_regression(X, lin, r_adj, cc)\n",
    "\n",
    "set_oddsratio_yticks(plt.gca(), 1, -4, set_label=False)\n",
    "border(plt.gca(), 1, 0, 0, 1)\n",
    "plt.title(\"Recall of Set 1\\nvs\\nLearned Set 1\\n(\" + r\"$\\leq 2$\" + \" informative trials)\")\n",
    "plt.gca().set_ylabel(r\"$\\frac{OR_{S1,post,early}}{OR_{S1,pre,late}}$\", fontsize=24, rotation=0, verticalalignment=\"center\", horizontalalignment=\"right\")\n",
    "plt.show()\n",
    "plt.close(fig)\n",
    "plt.show()"
   ]
  },
  {
   "cell_type": "markdown",
   "metadata": {},
   "source": [
    "### 3 Songs new set\n",
    "\n",
    "This plot shows the performance on the first **four** informative trials (inclusive) during the learning of S1 (before lesion) and S2 (after lesion). $OR_{S1,early}$ is the odds ratio as measured during the first **four** informative trials (per stimulus vocalizer) as the stimuli are being learned for the first time. $OR_{S2,early}$ is the odds ratio as measured during the first **four** informative trials of a new set after lesion (they had not learned this set before lesion).\n",
    "\n",
    "The ratio of these measures how much better/worse are they learning a new set after lesion versus a new set before lesion. Changes can be caused by several factors, among these that the new set could be easier/harder than the first set, and/or there can be metalearning (the subjects could theoretically get better at the task itself), as well as the experimental factor of the lesion.\n",
    "\n",
    "The $R^2$ and correlation coefficient are measured with linear regression, modeling $\\log_2(\\frac{OR_{S2,early}}{OR_{S1,early}}) = a V_{lesion} + b$."
   ]
  },
  {
   "cell_type": "code",
   "execution_count": 21,
   "metadata": {},
   "outputs": [
    {
     "data": {
      "image/png": "[encoded data removed]",
      "text/plain": [
       "<Figure size 216x216 with 1 Axes>"
      ]
     },
     "metadata": {
      "needs_background": "light"
     },
     "output_type": "display_data"
    }
   ],
   "source": [
    "fig = plt.figure(figsize=(3, 3))\n",
    "plt.scatter(*zip(*song_set2_scatter_points), color=\"Black\", s=80)\n",
    "\n",
    "X, Y = np.array([[x, np.log2(y)] for x, y in song_set2_scatter_points]).T\n",
    "popt, pcov, lin, r_squared, r_adj, sigma_ab = linreg(X, Y)\n",
    "cc, _ = pearsonr(X, Y)\n",
    "overlay_regression(X, lin, r_adj, cc)\n",
    "\n",
    "set_oddsratio_yticks(plt.gca(), 4, -2, set_label=False)\n",
    "border(plt.gca(), 1, 0, 0, 1)\n",
    "plt.title(\"Learning of Set 2\\nvs\\nLearning of Set 1\\n(\" + r\"$\\leq 4$\" +\" informative trials)\")\n",
    "plt.gca().set_ylabel(r\"$\\frac{OR_{S2,early}}{OR_{S1,early}}$\", fontsize=24, rotation=0, verticalalignment=\"center\", horizontalalignment=\"right\")\n",
    "plt.show()\n",
    "plt.close(fig)\n",
    "plt.show()"
   ]
  },
  {
   "cell_type": "markdown",
   "metadata": {},
   "source": [
    "### 4 DCs new set\n",
    "\n",
    "This plot shows the performance on the first **four** informative trials (inclusive) during the learning of S1 (before lesion) and S2 (after lesion). $OR_{S1,early}$ is the odds ratio as measured during the first **four** informative trials (per stimulus vocalizer) as the stimuli are being learned for the first time. $OR_{S2,early}$ is the odds ratio as measured during the first **four** informative trials of a new set after lesion (they had not learned this set before lesion).\n",
    "\n",
    "The ratio of these measures how much better/worse are they learning a new set after lesion versus a new set before lesion. Changes can be caused by several factors, among these that the new set could be easier/harder than the first set, and/or there can be metalearning (the subjects could theoretically get better at the task itself), as well as the experimental factor of the lesion.\n",
    "\n",
    "The $R^2$ and correlation coefficient are measured with linear regression, modeling $\\log_2(\\frac{OR_{S2,early}}{OR_{S1,early}}) = a V_{lesion} + b$."
   ]
  },
  {
   "cell_type": "code",
   "execution_count": 22,
   "metadata": {},
   "outputs": [
    {
     "data": {
      "image/png": "[encoded data removed]",
      "text/plain": [
       "<Figure size 216x216 with 1 Axes>"
      ]
     },
     "metadata": {
      "needs_background": "light"
     },
     "output_type": "display_data"
    }
   ],
   "source": [
    "fig = plt.figure(figsize=(3, 3))\n",
    "plt.scatter(*zip(*dc_set2_scatter_points), color=\"Black\", s=80)\n",
    "\n",
    "X, Y = np.array([[x, np.log2(y)] for x, y in dc_set2_scatter_points]).T\n",
    "popt, pcov, lin, r_squared, r_adj, sigma_ab = linreg(X, Y)\n",
    "cc, _ = pearsonr(X, Y)\n",
    "overlay_regression(X, lin, r_adj, cc)\n",
    "\n",
    "set_oddsratio_yticks(plt.gca(), 2, -3, set_label=False)\n",
    "border(plt.gca(), 1, 0, 0, 1)\n",
    "plt.title(\"Learning of Set 2\\nvs\\nLearning of Set 1\\n(\" + r\"$\\leq 4$\" +\" informative trials)\")\n",
    "plt.gca().set_ylabel(r\"$\\frac{OR_{S2,early}}{OR_{S1,early}}$\", fontsize=24, rotation=0, verticalalignment=\"center\", horizontalalignment=\"right\")\n",
    "plt.show()\n",
    "plt.close(fig)\n",
    "plt.show()"
   ]
  },
  {
   "cell_type": "code",
   "execution_count": null,
   "metadata": {},
   "outputs": [],
   "source": []
  }
 ],
 "metadata": {
  "kernelspec": {
   "display_name": "Python 3",
   "language": "python",
   "name": "python3"
  },
  "language_info": {
   "codemirror_mode": {
    "name": "ipython",
    "version": 3
   },
   "file_extension": ".py",
   "mimetype": "text/x-python",
   "name": "python",
   "nbconvert_exporter": "python",
   "pygments_lexer": "ipython3",
   "version": "3.6.10"
  }
 },
 "nbformat": 4,
 "nbformat_minor": 4
}
