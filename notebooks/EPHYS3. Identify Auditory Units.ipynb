{
 "cells": [
  {
   "cell_type": "markdown",
   "metadata": {},
   "source": [
    "# Identify Auditory Units\n",
    "\n",
    "The content of this notebook is converted to a script at `scripts/calculate_auditory_units.py`\n",
    "\n",
    "In this notebook we annotate units by some auditory properties (auditory in any 200ms window, auditory in first 500ms window, etc) as well as firing rate to songs, dcs, and ripples.\n",
    "\n",
    "### 1 Creating unit summary dataframe\n",
    "\n",
    "### 2 Venn diagram of auditory units"
   ]
  },
  {
   "cell_type": "code",
   "execution_count": 1,
   "metadata": {},
   "outputs": [],
   "source": [
    "import os\n",
    "import sys\n",
    "sys.path.append(os.path.join(os.getcwd(), \"..\", \"code\"))\n",
    "\n",
    "from soundsig.sound import spectrogram, plot_spectrogram\n",
    "\n",
    "import matplotlib as mpl\n",
    "import matplotlib.patches as patches\n",
    "import matplotlib.pyplot as plt\n",
    "import numpy as np\n",
    "import pandas as pd\n",
    "import tqdm\n",
    "from matplotlib_venn import venn3\n",
    "from pandarallel import pandarallel\n",
    "\n",
    "# Local imports\n",
    "import groups\n",
    "from analysis import (\n",
    "    fit_kde,\n",
    "    get_stimulus_timeseries,\n",
    "    Auditory,\n",
    "    ResponseStrength as RS,\n",
    ")\n",
    "from load_data import (\n",
    "    load_auditory_info,\n",
    "    load_spike_data,\n",
    "    load_stim_data,\n",
    "    load_ephys_stimulus, \n",
    "    load_unit_waveforms\n",
    ")\n",
    "from plotting import border, fig_grid, plot_raster\n",
    "from stats import jackknife, false_discovery\n",
    "from utils import Colors, clean_spike_times\n",
    "\n",
    "%load_ext autoreload\n",
    "%autoreload 2"
   ]
  },
  {
   "cell_type": "code",
   "execution_count": 2,
   "metadata": {},
   "outputs": [
    {
     "name": "stdout",
     "output_type": "stream",
     "text": [
      "INFO: Pandarallel will run on 8 workers.\n",
      "INFO: Pandarallel will use standard multiprocessing data transfer (pipe) to transfer data between the main process and workers.\n"
     ]
    }
   ],
   "source": [
    "pandarallel.initialize(progress_bar=True, use_memory_fs=False)"
   ]
  },
  {
   "cell_type": "code",
   "execution_count": 3,
   "metadata": {},
   "outputs": [],
   "source": [
    "ephys_data = load_spike_data()"
   ]
  },
  {
   "cell_type": "code",
   "execution_count": 4,
   "metadata": {},
   "outputs": [],
   "source": [
    "stim_data = load_stim_data()"
   ]
  },
  {
   "cell_type": "code",
   "execution_count": 5,
   "metadata": {
    "scrolled": true
   },
   "outputs": [
    {
     "data": {
      "text/html": [
       "<div>\n",
       "<style scoped>\n",
       "    .dataframe tbody tr th:only-of-type {\n",
       "        vertical-align: middle;\n",
       "    }\n",
       "\n",
       "    .dataframe tbody tr th {\n",
       "        vertical-align: top;\n",
       "    }\n",
       "\n",
       "    .dataframe thead tr th {\n",
       "        text-align: left;\n",
       "    }\n",
       "\n",
       "    .dataframe thead tr:last-of-type th {\n",
       "        text-align: right;\n",
       "    }\n",
       "</style>\n",
       "<table border=\"1\" class=\"dataframe\">\n",
       "  <thead>\n",
       "    <tr>\n",
       "      <th></th>\n",
       "      <th colspan=\"8\" halign=\"left\">electrode</th>\n",
       "      <th colspan=\"2\" halign=\"left\">isi_violation_pct</th>\n",
       "      <th>...</th>\n",
       "      <th colspan=\"2\" halign=\"left\">stim_duration</th>\n",
       "      <th colspan=\"8\" halign=\"left\">unit</th>\n",
       "    </tr>\n",
       "    <tr>\n",
       "      <th></th>\n",
       "      <th>count</th>\n",
       "      <th>mean</th>\n",
       "      <th>std</th>\n",
       "      <th>min</th>\n",
       "      <th>25%</th>\n",
       "      <th>50%</th>\n",
       "      <th>75%</th>\n",
       "      <th>max</th>\n",
       "      <th>count</th>\n",
       "      <th>mean</th>\n",
       "      <th>...</th>\n",
       "      <th>75%</th>\n",
       "      <th>max</th>\n",
       "      <th>count</th>\n",
       "      <th>mean</th>\n",
       "      <th>std</th>\n",
       "      <th>min</th>\n",
       "      <th>25%</th>\n",
       "      <th>50%</th>\n",
       "      <th>75%</th>\n",
       "      <th>max</th>\n",
       "    </tr>\n",
       "    <tr>\n",
       "      <th>unit_id</th>\n",
       "      <th></th>\n",
       "      <th></th>\n",
       "      <th></th>\n",
       "      <th></th>\n",
       "      <th></th>\n",
       "      <th></th>\n",
       "      <th></th>\n",
       "      <th></th>\n",
       "      <th></th>\n",
       "      <th></th>\n",
       "      <th></th>\n",
       "      <th></th>\n",
       "      <th></th>\n",
       "      <th></th>\n",
       "      <th></th>\n",
       "      <th></th>\n",
       "      <th></th>\n",
       "      <th></th>\n",
       "      <th></th>\n",
       "      <th></th>\n",
       "      <th></th>\n",
       "    </tr>\n",
       "  </thead>\n",
       "  <tbody>\n",
       "    <tr>\n",
       "      <th>e0u0sGreBla5671F_200117_123306</th>\n",
       "      <td>58.0</td>\n",
       "      <td>0.0</td>\n",
       "      <td>0.0</td>\n",
       "      <td>0.0</td>\n",
       "      <td>0.0</td>\n",
       "      <td>0.0</td>\n",
       "      <td>0.0</td>\n",
       "      <td>0.0</td>\n",
       "      <td>58.0</td>\n",
       "      <td>0.002098</td>\n",
       "      <td>...</td>\n",
       "      <td>6.0</td>\n",
       "      <td>6.0</td>\n",
       "      <td>58.0</td>\n",
       "      <td>0.0</td>\n",
       "      <td>0.0</td>\n",
       "      <td>0.0</td>\n",
       "      <td>0.0</td>\n",
       "      <td>0.0</td>\n",
       "      <td>0.0</td>\n",
       "      <td>0.0</td>\n",
       "    </tr>\n",
       "    <tr>\n",
       "      <th>e0u0sGreBla7410M_200116_163016</th>\n",
       "      <td>58.0</td>\n",
       "      <td>0.0</td>\n",
       "      <td>0.0</td>\n",
       "      <td>0.0</td>\n",
       "      <td>0.0</td>\n",
       "      <td>0.0</td>\n",
       "      <td>0.0</td>\n",
       "      <td>0.0</td>\n",
       "      <td>58.0</td>\n",
       "      <td>0.000632</td>\n",
       "      <td>...</td>\n",
       "      <td>6.0</td>\n",
       "      <td>6.0</td>\n",
       "      <td>58.0</td>\n",
       "      <td>0.0</td>\n",
       "      <td>0.0</td>\n",
       "      <td>0.0</td>\n",
       "      <td>0.0</td>\n",
       "      <td>0.0</td>\n",
       "      <td>0.0</td>\n",
       "      <td>0.0</td>\n",
       "    </tr>\n",
       "    <tr>\n",
       "      <th>e0u10sGreBla5671F_200117_183229</th>\n",
       "      <td>58.0</td>\n",
       "      <td>0.0</td>\n",
       "      <td>0.0</td>\n",
       "      <td>0.0</td>\n",
       "      <td>0.0</td>\n",
       "      <td>0.0</td>\n",
       "      <td>0.0</td>\n",
       "      <td>0.0</td>\n",
       "      <td>58.0</td>\n",
       "      <td>0.000000</td>\n",
       "      <td>...</td>\n",
       "      <td>6.0</td>\n",
       "      <td>6.0</td>\n",
       "      <td>58.0</td>\n",
       "      <td>10.0</td>\n",
       "      <td>0.0</td>\n",
       "      <td>10.0</td>\n",
       "      <td>10.0</td>\n",
       "      <td>10.0</td>\n",
       "      <td>10.0</td>\n",
       "      <td>10.0</td>\n",
       "    </tr>\n",
       "    <tr>\n",
       "      <th>e0u10sGreBla7410M_200116_185726</th>\n",
       "      <td>58.0</td>\n",
       "      <td>0.0</td>\n",
       "      <td>0.0</td>\n",
       "      <td>0.0</td>\n",
       "      <td>0.0</td>\n",
       "      <td>0.0</td>\n",
       "      <td>0.0</td>\n",
       "      <td>0.0</td>\n",
       "      <td>58.0</td>\n",
       "      <td>0.000301</td>\n",
       "      <td>...</td>\n",
       "      <td>6.0</td>\n",
       "      <td>6.0</td>\n",
       "      <td>58.0</td>\n",
       "      <td>10.0</td>\n",
       "      <td>0.0</td>\n",
       "      <td>10.0</td>\n",
       "      <td>10.0</td>\n",
       "      <td>10.0</td>\n",
       "      <td>10.0</td>\n",
       "      <td>10.0</td>\n",
       "    </tr>\n",
       "    <tr>\n",
       "      <th>e0u10sRedBla0907M_191219_080025</th>\n",
       "      <td>58.0</td>\n",
       "      <td>0.0</td>\n",
       "      <td>0.0</td>\n",
       "      <td>0.0</td>\n",
       "      <td>0.0</td>\n",
       "      <td>0.0</td>\n",
       "      <td>0.0</td>\n",
       "      <td>0.0</td>\n",
       "      <td>58.0</td>\n",
       "      <td>0.047813</td>\n",
       "      <td>...</td>\n",
       "      <td>6.0</td>\n",
       "      <td>6.0</td>\n",
       "      <td>58.0</td>\n",
       "      <td>10.0</td>\n",
       "      <td>0.0</td>\n",
       "      <td>10.0</td>\n",
       "      <td>10.0</td>\n",
       "      <td>10.0</td>\n",
       "      <td>10.0</td>\n",
       "      <td>10.0</td>\n",
       "    </tr>\n",
       "    <tr>\n",
       "      <th>...</th>\n",
       "      <td>...</td>\n",
       "      <td>...</td>\n",
       "      <td>...</td>\n",
       "      <td>...</td>\n",
       "      <td>...</td>\n",
       "      <td>...</td>\n",
       "      <td>...</td>\n",
       "      <td>...</td>\n",
       "      <td>...</td>\n",
       "      <td>...</td>\n",
       "      <td>...</td>\n",
       "      <td>...</td>\n",
       "      <td>...</td>\n",
       "      <td>...</td>\n",
       "      <td>...</td>\n",
       "      <td>...</td>\n",
       "      <td>...</td>\n",
       "      <td>...</td>\n",
       "      <td>...</td>\n",
       "      <td>...</td>\n",
       "      <td>...</td>\n",
       "    </tr>\n",
       "    <tr>\n",
       "      <th>e9u81sGreBla7410M_200116_102111</th>\n",
       "      <td>58.0</td>\n",
       "      <td>9.0</td>\n",
       "      <td>0.0</td>\n",
       "      <td>9.0</td>\n",
       "      <td>9.0</td>\n",
       "      <td>9.0</td>\n",
       "      <td>9.0</td>\n",
       "      <td>9.0</td>\n",
       "      <td>58.0</td>\n",
       "      <td>0.000405</td>\n",
       "      <td>...</td>\n",
       "      <td>6.0</td>\n",
       "      <td>6.0</td>\n",
       "      <td>58.0</td>\n",
       "      <td>81.0</td>\n",
       "      <td>0.0</td>\n",
       "      <td>81.0</td>\n",
       "      <td>81.0</td>\n",
       "      <td>81.0</td>\n",
       "      <td>81.0</td>\n",
       "      <td>81.0</td>\n",
       "    </tr>\n",
       "    <tr>\n",
       "      <th>e9u84sGreBla7410M_200116_102111</th>\n",
       "      <td>58.0</td>\n",
       "      <td>9.0</td>\n",
       "      <td>0.0</td>\n",
       "      <td>9.0</td>\n",
       "      <td>9.0</td>\n",
       "      <td>9.0</td>\n",
       "      <td>9.0</td>\n",
       "      <td>9.0</td>\n",
       "      <td>58.0</td>\n",
       "      <td>0.000275</td>\n",
       "      <td>...</td>\n",
       "      <td>6.0</td>\n",
       "      <td>6.0</td>\n",
       "      <td>58.0</td>\n",
       "      <td>84.0</td>\n",
       "      <td>0.0</td>\n",
       "      <td>84.0</td>\n",
       "      <td>84.0</td>\n",
       "      <td>84.0</td>\n",
       "      <td>84.0</td>\n",
       "      <td>84.0</td>\n",
       "    </tr>\n",
       "    <tr>\n",
       "      <th>e9u87sGreBla7410M_200116_102111</th>\n",
       "      <td>58.0</td>\n",
       "      <td>9.0</td>\n",
       "      <td>0.0</td>\n",
       "      <td>9.0</td>\n",
       "      <td>9.0</td>\n",
       "      <td>9.0</td>\n",
       "      <td>9.0</td>\n",
       "      <td>9.0</td>\n",
       "      <td>58.0</td>\n",
       "      <td>0.000526</td>\n",
       "      <td>...</td>\n",
       "      <td>6.0</td>\n",
       "      <td>6.0</td>\n",
       "      <td>58.0</td>\n",
       "      <td>87.0</td>\n",
       "      <td>0.0</td>\n",
       "      <td>87.0</td>\n",
       "      <td>87.0</td>\n",
       "      <td>87.0</td>\n",
       "      <td>87.0</td>\n",
       "      <td>87.0</td>\n",
       "    </tr>\n",
       "    <tr>\n",
       "      <th>e9u88sGreBla7410M_200116_102111</th>\n",
       "      <td>58.0</td>\n",
       "      <td>9.0</td>\n",
       "      <td>0.0</td>\n",
       "      <td>9.0</td>\n",
       "      <td>9.0</td>\n",
       "      <td>9.0</td>\n",
       "      <td>9.0</td>\n",
       "      <td>9.0</td>\n",
       "      <td>58.0</td>\n",
       "      <td>0.084881</td>\n",
       "      <td>...</td>\n",
       "      <td>6.0</td>\n",
       "      <td>6.0</td>\n",
       "      <td>58.0</td>\n",
       "      <td>88.0</td>\n",
       "      <td>0.0</td>\n",
       "      <td>88.0</td>\n",
       "      <td>88.0</td>\n",
       "      <td>88.0</td>\n",
       "      <td>88.0</td>\n",
       "      <td>88.0</td>\n",
       "    </tr>\n",
       "    <tr>\n",
       "      <th>e9u9sWhiRed9510F_191220_181416</th>\n",
       "      <td>58.0</td>\n",
       "      <td>9.0</td>\n",
       "      <td>0.0</td>\n",
       "      <td>9.0</td>\n",
       "      <td>9.0</td>\n",
       "      <td>9.0</td>\n",
       "      <td>9.0</td>\n",
       "      <td>9.0</td>\n",
       "      <td>58.0</td>\n",
       "      <td>0.000000</td>\n",
       "      <td>...</td>\n",
       "      <td>6.0</td>\n",
       "      <td>6.0</td>\n",
       "      <td>58.0</td>\n",
       "      <td>9.0</td>\n",
       "      <td>0.0</td>\n",
       "      <td>9.0</td>\n",
       "      <td>9.0</td>\n",
       "      <td>9.0</td>\n",
       "      <td>9.0</td>\n",
       "      <td>9.0</td>\n",
       "    </tr>\n",
       "  </tbody>\n",
       "</table>\n",
       "<p>2440 rows × 48 columns</p>\n",
       "</div>"
      ],
      "text/plain": [
       "                                electrode                                     \\\n",
       "                                    count mean  std  min  25%  50%  75%  max   \n",
       "unit_id                                                                        \n",
       "e0u0sGreBla5671F_200117_123306       58.0  0.0  0.0  0.0  0.0  0.0  0.0  0.0   \n",
       "e0u0sGreBla7410M_200116_163016       58.0  0.0  0.0  0.0  0.0  0.0  0.0  0.0   \n",
       "e0u10sGreBla5671F_200117_183229      58.0  0.0  0.0  0.0  0.0  0.0  0.0  0.0   \n",
       "e0u10sGreBla7410M_200116_185726      58.0  0.0  0.0  0.0  0.0  0.0  0.0  0.0   \n",
       "e0u10sRedBla0907M_191219_080025      58.0  0.0  0.0  0.0  0.0  0.0  0.0  0.0   \n",
       "...                                   ...  ...  ...  ...  ...  ...  ...  ...   \n",
       "e9u81sGreBla7410M_200116_102111      58.0  9.0  0.0  9.0  9.0  9.0  9.0  9.0   \n",
       "e9u84sGreBla7410M_200116_102111      58.0  9.0  0.0  9.0  9.0  9.0  9.0  9.0   \n",
       "e9u87sGreBla7410M_200116_102111      58.0  9.0  0.0  9.0  9.0  9.0  9.0  9.0   \n",
       "e9u88sGreBla7410M_200116_102111      58.0  9.0  0.0  9.0  9.0  9.0  9.0  9.0   \n",
       "e9u9sWhiRed9510F_191220_181416       58.0  9.0  0.0  9.0  9.0  9.0  9.0  9.0   \n",
       "\n",
       "                                isi_violation_pct            ...  \\\n",
       "                                            count      mean  ...   \n",
       "unit_id                                                      ...   \n",
       "e0u0sGreBla5671F_200117_123306               58.0  0.002098  ...   \n",
       "e0u0sGreBla7410M_200116_163016               58.0  0.000632  ...   \n",
       "e0u10sGreBla5671F_200117_183229              58.0  0.000000  ...   \n",
       "e0u10sGreBla7410M_200116_185726              58.0  0.000301  ...   \n",
       "e0u10sRedBla0907M_191219_080025              58.0  0.047813  ...   \n",
       "...                                           ...       ...  ...   \n",
       "e9u81sGreBla7410M_200116_102111              58.0  0.000405  ...   \n",
       "e9u84sGreBla7410M_200116_102111              58.0  0.000275  ...   \n",
       "e9u87sGreBla7410M_200116_102111              58.0  0.000526  ...   \n",
       "e9u88sGreBla7410M_200116_102111              58.0  0.084881  ...   \n",
       "e9u9sWhiRed9510F_191220_181416               58.0  0.000000  ...   \n",
       "\n",
       "                                stim_duration       unit                   \\\n",
       "                                          75%  max count  mean  std   min   \n",
       "unit_id                                                                     \n",
       "e0u0sGreBla5671F_200117_123306            6.0  6.0  58.0   0.0  0.0   0.0   \n",
       "e0u0sGreBla7410M_200116_163016            6.0  6.0  58.0   0.0  0.0   0.0   \n",
       "e0u10sGreBla5671F_200117_183229           6.0  6.0  58.0  10.0  0.0  10.0   \n",
       "e0u10sGreBla7410M_200116_185726           6.0  6.0  58.0  10.0  0.0  10.0   \n",
       "e0u10sRedBla0907M_191219_080025           6.0  6.0  58.0  10.0  0.0  10.0   \n",
       "...                                       ...  ...   ...   ...  ...   ...   \n",
       "e9u81sGreBla7410M_200116_102111           6.0  6.0  58.0  81.0  0.0  81.0   \n",
       "e9u84sGreBla7410M_200116_102111           6.0  6.0  58.0  84.0  0.0  84.0   \n",
       "e9u87sGreBla7410M_200116_102111           6.0  6.0  58.0  87.0  0.0  87.0   \n",
       "e9u88sGreBla7410M_200116_102111           6.0  6.0  58.0  88.0  0.0  88.0   \n",
       "e9u9sWhiRed9510F_191220_181416            6.0  6.0  58.0   9.0  0.0   9.0   \n",
       "\n",
       "                                                         \n",
       "                                  25%   50%   75%   max  \n",
       "unit_id                                                  \n",
       "e0u0sGreBla5671F_200117_123306    0.0   0.0   0.0   0.0  \n",
       "e0u0sGreBla7410M_200116_163016    0.0   0.0   0.0   0.0  \n",
       "e0u10sGreBla5671F_200117_183229  10.0  10.0  10.0  10.0  \n",
       "e0u10sGreBla7410M_200116_185726  10.0  10.0  10.0  10.0  \n",
       "e0u10sRedBla0907M_191219_080025  10.0  10.0  10.0  10.0  \n",
       "...                               ...   ...   ...   ...  \n",
       "e9u81sGreBla7410M_200116_102111  81.0  81.0  81.0  81.0  \n",
       "e9u84sGreBla7410M_200116_102111  84.0  84.0  84.0  84.0  \n",
       "e9u87sGreBla7410M_200116_102111  87.0  87.0  87.0  87.0  \n",
       "e9u88sGreBla7410M_200116_102111  88.0  88.0  88.0  88.0  \n",
       "e9u9sWhiRed9510F_191220_181416    9.0   9.0   9.0   9.0  \n",
       "\n",
       "[2440 rows x 48 columns]"
      ]
     },
     "execution_count": 5,
     "metadata": {},
     "output_type": "execute_result"
    }
   ],
   "source": [
    "ephys_data.groupby(\"unit_id\").describe()"
   ]
  },
  {
   "cell_type": "markdown",
   "metadata": {},
   "source": [
    "## Filter 1\n",
    "\n",
    "SNR > 5"
   ]
  },
  {
   "cell_type": "code",
   "execution_count": 6,
   "metadata": {},
   "outputs": [
    {
     "data": {
      "text/plain": [
       "1695"
      ]
     },
     "execution_count": 6,
     "metadata": {},
     "output_type": "execute_result"
    }
   ],
   "source": [
    "len(ephys_data.query(\"snr > 5\").groupby(\"unit_id\"))"
   ]
  },
  {
   "cell_type": "markdown",
   "metadata": {},
   "source": [
    "## Filter 2\n",
    "\n",
    "isi_violation_pct < 0.001"
   ]
  },
  {
   "cell_type": "code",
   "execution_count": 7,
   "metadata": {},
   "outputs": [
    {
     "data": {
      "text/plain": [
       "905"
      ]
     },
     "execution_count": 7,
     "metadata": {},
     "output_type": "execute_result"
    }
   ],
   "source": [
    "len(ephys_data.query(\"isi_violation_pct < 0.001\").groupby(\"unit_id\"))"
   ]
  },
  {
   "cell_type": "markdown",
   "metadata": {},
   "source": [
    "## Filter 3\n",
    "\n",
    "This notebook is about identifying which units are auditory.\n",
    "\n",
    "This is a little more complicated. I will use the measures of response strength laid out in the Response Strength Calcualtion notebook. First I will check if the unit is overall responsive to sounds. If not, I'll do a second check to see if any stims have a response that is significantly greater than zero (bonferroni corrected)"
   ]
  },
  {
   "cell_type": "markdown",
   "metadata": {},
   "source": [
    "## 1 Create unit summary dataframe\n",
    "\n",
    "The following cells create a dataframe with each unit annotated with auditory information. This is also produced by the script `scripts/calculate_auditory_units.py` and can just be loaded here."
   ]
  },
  {
   "cell_type": "code",
   "execution_count": 8,
   "metadata": {},
   "outputs": [],
   "source": [
    "unit_summary = load_auditory_info()"
   ]
  },
  {
   "cell_type": "markdown",
   "metadata": {},
   "source": [
    "## Create tables for auditory columns"
   ]
  },
  {
   "cell_type": "code",
   "execution_count": 9,
   "metadata": {},
   "outputs": [],
   "source": [
    "columns = {}"
   ]
  },
  {
   "cell_type": "code",
   "execution_count": 10,
   "metadata": {},
   "outputs": [
    {
     "data": {
      "application/vnd.jupyter.widget-view+json": {
       "model_id": "097b968eed474d7cb8cdf54b8ff301d9",
       "version_major": 2,
       "version_minor": 0
      },
      "text/plain": [
       "VBox(children=(HBox(children=(IntProgress(value=0, description='0.00%', max=305), Label(value='0 / 305'))), HB…"
      ]
     },
     "metadata": {},
     "output_type": "display_data"
    }
   ],
   "source": [
    "columns[\"auditory_in_any_1s\"] = ephys_data.groupby(\"unit_id\").parallel_apply(\n",
    "    lambda unit_df: Auditory.is_auditory_by_any_rate(unit_df, alpha=0.01, delta_t=1.0),\n",
    ")"
   ]
  },
  {
   "cell_type": "code",
   "execution_count": 11,
   "metadata": {},
   "outputs": [
    {
     "data": {
      "application/vnd.jupyter.widget-view+json": {
       "model_id": "74262f28be4f43cd8fe30d01d0c6918f",
       "version_major": 2,
       "version_minor": 0
      },
      "text/plain": [
       "VBox(children=(HBox(children=(IntProgress(value=0, description='0.00%', max=305), Label(value='0 / 305'))), HB…"
      ]
     },
     "metadata": {},
     "output_type": "display_data"
    }
   ],
   "source": [
    "columns[\"auditory_in_any_200ms\"] = ephys_data.groupby(\"unit_id\").parallel_apply(\n",
    "    lambda unit_df: Auditory.is_auditory_by_any_rate(unit_df, alpha=0.01, delta_t=0.2)\n",
    ")"
   ]
  },
  {
   "cell_type": "code",
   "execution_count": 12,
   "metadata": {},
   "outputs": [
    {
     "data": {
      "application/vnd.jupyter.widget-view+json": {
       "model_id": "cd25bf5fd0fc48f7aaabceb2638faef9",
       "version_major": 2,
       "version_minor": 0
      },
      "text/plain": [
       "VBox(children=(HBox(children=(IntProgress(value=0, description='0.00%', max=305), Label(value='0 / 305'))), HB…"
      ]
     },
     "metadata": {},
     "output_type": "display_data"
    }
   ],
   "source": [
    "columns[\"auditory_onset_500ms\"] = ephys_data.groupby(\"unit_id\").parallel_apply(\n",
    "    lambda unit_df: Auditory.is_auditory_by_mean_rate(unit_df, alpha=0.05),\n",
    ")"
   ]
  },
  {
   "cell_type": "code",
   "execution_count": 13,
   "metadata": {},
   "outputs": [],
   "source": [
    "columns[\"fr\"] = ephys_data.groupby(\"unit_id\").apply(\n",
    "    lambda unit_df: RS.rate(clean_spike_times(unit_df[\"spike_times\"]))[0]\n",
    ")"
   ]
  },
  {
   "cell_type": "markdown",
   "metadata": {},
   "source": [
    "## Compare onset psths between renditions and noraml"
   ]
  },
  {
   "cell_type": "code",
   "execution_count": 14,
   "metadata": {},
   "outputs": [],
   "source": [
    "rate_auditory_table = pd.DataFrame(\n",
    "    columns,\n",
    "    index=ephys_data.groupby(\"unit_id\").grouper.levels[0]\n",
    ").reset_index()"
   ]
  },
  {
   "cell_type": "code",
   "execution_count": 15,
   "metadata": {},
   "outputs": [
    {
     "data": {
      "text/html": [
       "<div>\n",
       "<style scoped>\n",
       "    .dataframe tbody tr th:only-of-type {\n",
       "        vertical-align: middle;\n",
       "    }\n",
       "\n",
       "    .dataframe tbody tr th {\n",
       "        vertical-align: top;\n",
       "    }\n",
       "\n",
       "    .dataframe thead th {\n",
       "        text-align: right;\n",
       "    }\n",
       "</style>\n",
       "<table border=\"1\" class=\"dataframe\">\n",
       "  <thead>\n",
       "    <tr style=\"text-align: right;\">\n",
       "      <th></th>\n",
       "      <th>unit_id</th>\n",
       "      <th>auditory_in_any_1s</th>\n",
       "      <th>auditory_in_any_200ms</th>\n",
       "      <th>auditory_onset_500ms</th>\n",
       "      <th>fr</th>\n",
       "    </tr>\n",
       "  </thead>\n",
       "  <tbody>\n",
       "    <tr>\n",
       "      <th>0</th>\n",
       "      <td>e0u0sGreBla5671F_200117_123306</td>\n",
       "      <td>False</td>\n",
       "      <td>True</td>\n",
       "      <td>False</td>\n",
       "      <td>4.465517</td>\n",
       "    </tr>\n",
       "    <tr>\n",
       "      <th>1</th>\n",
       "      <td>e0u0sGreBla7410M_200116_163016</td>\n",
       "      <td>False</td>\n",
       "      <td>False</td>\n",
       "      <td>False</td>\n",
       "      <td>1.962049</td>\n",
       "    </tr>\n",
       "    <tr>\n",
       "      <th>2</th>\n",
       "      <td>e0u10sGreBla5671F_200117_183229</td>\n",
       "      <td>False</td>\n",
       "      <td>True</td>\n",
       "      <td>False</td>\n",
       "      <td>0.433673</td>\n",
       "    </tr>\n",
       "    <tr>\n",
       "      <th>3</th>\n",
       "      <td>e0u10sGreBla7410M_200116_185726</td>\n",
       "      <td>True</td>\n",
       "      <td>True</td>\n",
       "      <td>False</td>\n",
       "      <td>2.389655</td>\n",
       "    </tr>\n",
       "    <tr>\n",
       "      <th>4</th>\n",
       "      <td>e0u10sRedBla0907M_191219_080025</td>\n",
       "      <td>True</td>\n",
       "      <td>True</td>\n",
       "      <td>True</td>\n",
       "      <td>3.686275</td>\n",
       "    </tr>\n",
       "    <tr>\n",
       "      <th>...</th>\n",
       "      <td>...</td>\n",
       "      <td>...</td>\n",
       "      <td>...</td>\n",
       "      <td>...</td>\n",
       "      <td>...</td>\n",
       "    </tr>\n",
       "    <tr>\n",
       "      <th>2435</th>\n",
       "      <td>e9u81sGreBla7410M_200116_102111</td>\n",
       "      <td>True</td>\n",
       "      <td>True</td>\n",
       "      <td>False</td>\n",
       "      <td>2.439716</td>\n",
       "    </tr>\n",
       "    <tr>\n",
       "      <th>2436</th>\n",
       "      <td>e9u84sGreBla7410M_200116_102111</td>\n",
       "      <td>True</td>\n",
       "      <td>True</td>\n",
       "      <td>True</td>\n",
       "      <td>3.931429</td>\n",
       "    </tr>\n",
       "    <tr>\n",
       "      <th>2437</th>\n",
       "      <td>e9u87sGreBla7410M_200116_102111</td>\n",
       "      <td>True</td>\n",
       "      <td>True</td>\n",
       "      <td>True</td>\n",
       "      <td>8.318841</td>\n",
       "    </tr>\n",
       "    <tr>\n",
       "      <th>2438</th>\n",
       "      <td>e9u88sGreBla7410M_200116_102111</td>\n",
       "      <td>False</td>\n",
       "      <td>False</td>\n",
       "      <td>False</td>\n",
       "      <td>NaN</td>\n",
       "    </tr>\n",
       "    <tr>\n",
       "      <th>2439</th>\n",
       "      <td>e9u9sWhiRed9510F_191220_181416</td>\n",
       "      <td>False</td>\n",
       "      <td>True</td>\n",
       "      <td>False</td>\n",
       "      <td>0.213953</td>\n",
       "    </tr>\n",
       "  </tbody>\n",
       "</table>\n",
       "<p>2440 rows × 5 columns</p>\n",
       "</div>"
      ],
      "text/plain": [
       "                              unit_id  auditory_in_any_1s  \\\n",
       "0      e0u0sGreBla5671F_200117_123306               False   \n",
       "1      e0u0sGreBla7410M_200116_163016               False   \n",
       "2     e0u10sGreBla5671F_200117_183229               False   \n",
       "3     e0u10sGreBla7410M_200116_185726                True   \n",
       "4     e0u10sRedBla0907M_191219_080025                True   \n",
       "...                               ...                 ...   \n",
       "2435  e9u81sGreBla7410M_200116_102111                True   \n",
       "2436  e9u84sGreBla7410M_200116_102111                True   \n",
       "2437  e9u87sGreBla7410M_200116_102111                True   \n",
       "2438  e9u88sGreBla7410M_200116_102111               False   \n",
       "2439   e9u9sWhiRed9510F_191220_181416               False   \n",
       "\n",
       "      auditory_in_any_200ms  auditory_onset_500ms        fr  \n",
       "0                      True                 False  4.465517  \n",
       "1                     False                 False  1.962049  \n",
       "2                      True                 False  0.433673  \n",
       "3                      True                 False  2.389655  \n",
       "4                      True                  True  3.686275  \n",
       "...                     ...                   ...       ...  \n",
       "2435                   True                 False  2.439716  \n",
       "2436                   True                  True  3.931429  \n",
       "2437                   True                  True  8.318841  \n",
       "2438                  False                 False       NaN  \n",
       "2439                   True                 False  0.213953  \n",
       "\n",
       "[2440 rows x 5 columns]"
      ]
     },
     "execution_count": 15,
     "metadata": {},
     "output_type": "execute_result"
    }
   ],
   "source": [
    "rate_auditory_table"
   ]
  },
  {
   "cell_type": "markdown",
   "metadata": {},
   "source": [
    "## Join with the ephys data and re-aggregate by unit_id\n",
    "\n",
    "Each group should have one unique value for the three columns \"auditory_\\*\". So for each group just take a dummy value."
   ]
  },
  {
   "cell_type": "code",
   "execution_count": 16,
   "metadata": {},
   "outputs": [],
   "source": [
    "auditory_ephys_data = ephys_data.merge(rate_auditory_table, on=\"unit_id\")"
   ]
  },
  {
   "cell_type": "code",
   "execution_count": 17,
   "metadata": {},
   "outputs": [],
   "source": [
    "unit_summary = auditory_ephys_data.groupby(\"unit_id\").agg({\n",
    "    \"subject\": lambda x: x[0],\n",
    "    \"electrode\": lambda x: x[0],\n",
    "    \"unit\": lambda x: x[0],\n",
    "    \"site\": lambda x: x[0],\n",
    "    \"snr\": lambda x: x[0],\n",
    "    \"n_trials\": \"mean\",\n",
    "    \"isi_violation_pct\": lambda x: x[0],\n",
    "    \"fr\": lambda x: x[0],\n",
    "    \"auditory_onset_500ms\": lambda x: x[0],\n",
    "    \"auditory_in_any_200ms\": lambda x: x[0],\n",
    "    \"auditory_in_any_1s\": lambda x: x[0],\n",
    "})"
   ]
  },
  {
   "cell_type": "code",
   "execution_count": 18,
   "metadata": {},
   "outputs": [],
   "source": [
    "from load_data import load_rendition_data\n",
    "rendition_data = load_rendition_data()\n",
    "\n",
    "splits = [groups.all, groups.songs, groups.dcs, groups.ripples]\n",
    "rate_data = []\n",
    "for i in range(len(unit_summary)):\n",
    "    row = unit_summary.iloc[i]\n",
    "    _rendition_unit_data = rendition_data.query(\"unit_id == '{}'\".format(row.name))\n",
    "    result = {}\n",
    "    for split in splits:\n",
    "        fr,  _ = RS.rate(clean_spike_times(split(_rendition_unit_data)[\"spike_times\"]), time_window=(0, 0.5))\n",
    "        result[\"{}_fr\".format(split.__name__)] = fr\n",
    "    rate_data.append(result)\n",
    "    \n",
    "for split in splits:\n",
    "    key = \"{}_fr\".format(split.__name__)\n",
    "    unit_summary[key] = pd.Series([x[key] for x in rate_data], index=unit_summary.index)"
   ]
  },
  {
   "cell_type": "markdown",
   "metadata": {},
   "source": [
    "## 2 Create Venn diagram of auditory units"
   ]
  },
  {
   "cell_type": "markdown",
   "metadata": {},
   "source": [
    "#### Gather proportions for Venn diagram"
   ]
  },
  {
   "cell_type": "code",
   "execution_count": 19,
   "metadata": {},
   "outputs": [],
   "source": [
    "def venn_counts(auditory_unit_summary, return_counts=True):\n",
    "    results = {}\n",
    "    for onset in [0, 1]:\n",
    "        for any200ms in [0, 1]:\n",
    "            for any1s in [0, 1]:\n",
    "                section = (\n",
    "                    (auditory_unit_summary[\"auditory_onset_500ms\"] == onset)\n",
    "                    & (auditory_unit_summary[\"auditory_in_any_200ms\"] == any200ms)\n",
    "                    & (auditory_unit_summary[\"auditory_in_any_1s\"] == any1s)\n",
    "                )\n",
    "                if return_counts:\n",
    "                    results[\"{}{}{}\".format(onset, any200ms, any1s)] = section.sum()\n",
    "                else:\n",
    "                    results[\"{}{}{}\".format(onset, any200ms, any1s)] = section.mean()\n",
    "#                     {\n",
    "#                         \"frac\": section.mean(),\n",
    "#                         \"count\": section.sum()\n",
    "#                     }\n",
    "    for category in [\"auditory_onset_500ms\", \"auditory_in_any_200ms\", \"auditory_in_any_1s\"]:\n",
    "        section = auditory_unit_summary[category] == True\n",
    "        results[category] = {\n",
    "            \"frac\": section.mean(),\n",
    "            \"count\": section.sum()\n",
    "        }\n",
    "    return results\n",
    "\n",
    "def _make_venn_dfs(auditory_unit_summary):\n",
    "    results = {}\n",
    "    for onset in [0, 1]:\n",
    "        for any200ms in [0, 1]:\n",
    "            for any1s in [0, 1]:\n",
    "                section = (\n",
    "                    (auditory_unit_summary[\"auditory_onset_500ms\"] == onset)\n",
    "                    & (auditory_unit_summary[\"auditory_in_any_200ms\"] == any200ms)\n",
    "                    & (auditory_unit_summary[\"auditory_in_any_1s\"] == any1s)\n",
    "                )\n",
    "                results[\"{}{}{}\".format(onset, any200ms, any1s)] = auditory_unit_summary[section]\n",
    "    return results"
   ]
  },
  {
   "cell_type": "code",
   "execution_count": 20,
   "metadata": {},
   "outputs": [],
   "source": [
    "venn_data = venn_counts(unit_summary, return_counts=True)"
   ]
  },
  {
   "cell_type": "code",
   "execution_count": 21,
   "metadata": {},
   "outputs": [
    {
     "data": {
      "image/png": "[encoded data removed]",
      "text/plain": [
       "<Figure size 576x576 with 1 Axes>"
      ]
     },
     "metadata": {},
     "output_type": "display_data"
    }
   ],
   "source": [
    "fig = plt.figure(figsize=(8, 8))\n",
    "ax = plt.gca()\n",
    "v = venn3(\n",
    "    venn_data,\n",
    "    set_labels=(\"Onset 500ms\", \"Any 200ms\", \"Any 1s\"),\n",
    "    set_colors=(\"Blue\", \"LimeGreen\", \"Orange\"),\n",
    "    normalize_to=0.3,\n",
    "    ax=ax\n",
    ")\n",
    "\n",
    "for txt in v.set_labels:\n",
    "    txt.set_fontsize(16)\n",
    "for txt in v.subset_labels:\n",
    "    txt.set_text(\"{:d}\".format(int(txt.get_text())))\n",
    "    txt.set_fontsize(18)\n",
    "\n",
    "plt.text(\n",
    "    0.02,\n",
    "    0.98, \n",
    "    \"{:d} nonauditory\".format(venn_data[\"000\"]), \n",
    "    fontsize=18, \n",
    "    horizontalalignment=\"left\",\n",
    "    verticalalignment=\"top\", \n",
    "    transform=plt.gca().transAxes\n",
    ")\n",
    "\n",
    "plt.text(\n",
    "    0.98,\n",
    "    0.98, \n",
    "    \"{:d} units\".format(len(unit_summary)),\n",
    "    fontsize=18, \n",
    "    horizontalalignment=\"right\",\n",
    "    verticalalignment=\"top\", \n",
    "    transform=plt.gca().transAxes\n",
    ")\n",
    "\n",
    "fig.patch.set_facecolor(\"White\")\n"
   ]
  },
  {
   "cell_type": "markdown",
   "metadata": {},
   "source": [
    "## Create a table with auditory information for each unit"
   ]
  },
  {
   "cell_type": "markdown",
   "metadata": {},
   "source": [
    "## Filter to n_trials > 8 (on average), isi_violation_pct < 0.001, and snr > 5"
   ]
  },
  {
   "cell_type": "code",
   "execution_count": 22,
   "metadata": {},
   "outputs": [],
   "source": [
    "high_signal_units = unit_summary[\n",
    "    (unit_summary[\"n_trials\"] > 8) &\n",
    "    (unit_summary[\"snr\"] >= 5) &\n",
    "    (unit_summary[\"isi_violation_pct\"] < 0.001)\n",
    "]"
   ]
  },
  {
   "cell_type": "code",
   "execution_count": 23,
   "metadata": {},
   "outputs": [],
   "source": [
    "venn_data = venn_counts(high_signal_units, return_counts=True)"
   ]
  },
  {
   "cell_type": "code",
   "execution_count": 24,
   "metadata": {},
   "outputs": [
    {
     "data": {
      "image/png": "[encoded data removed]",
      "text/plain": [
       "<Figure size 576x576 with 1 Axes>"
      ]
     },
     "metadata": {},
     "output_type": "display_data"
    }
   ],
   "source": [
    "fig = plt.figure(figsize=(8, 8))\n",
    "ax = plt.gca()\n",
    "v = venn3(\n",
    "    venn_data,\n",
    "    set_labels=(\"Onset 500ms\", \"Any 200ms\", \"Any 1s\"),\n",
    "    set_colors=(\"Blue\", \"LimeGreen\", \"Orange\"),\n",
    "    normalize_to=0.3,\n",
    "    ax=ax\n",
    ")\n",
    "\n",
    "for txt in v.set_labels:\n",
    "    txt.set_fontsize(16)\n",
    "for txt in v.subset_labels:\n",
    "    if txt is None: continue\n",
    "    txt.set_text(\"{:d}\".format(int(txt.get_text())))\n",
    "    txt.set_fontsize(18)\n",
    "\n",
    "plt.text(\n",
    "    0.02,\n",
    "    0.98, \n",
    "    \"{:d} nonauditory\".format(venn_data[\"000\"]), \n",
    "    fontsize=18, \n",
    "    horizontalalignment=\"left\",\n",
    "    verticalalignment=\"top\", \n",
    "    transform=plt.gca().transAxes\n",
    ")\n",
    "\n",
    "plt.text(\n",
    "    0.98,\n",
    "    0.98, \n",
    "    \"{:d} units\".format(len(high_signal_units)),\n",
    "    fontsize=18, \n",
    "    horizontalalignment=\"right\",\n",
    "    verticalalignment=\"top\", \n",
    "    transform=plt.gca().transAxes\n",
    ")\n",
    "\n",
    "fig.patch.set_facecolor(\"White\")\n"
   ]
  },
  {
   "cell_type": "markdown",
   "metadata": {},
   "source": [
    "## "
   ]
  },
  {
   "cell_type": "code",
   "execution_count": null,
   "metadata": {},
   "outputs": [],
   "source": []
  }
 ],
 "metadata": {
  "kernelspec": {
   "display_name": "Python 3",
   "language": "python",
   "name": "python3"
  },
  "language_info": {
   "codemirror_mode": {
    "name": "ipython",
    "version": 3
   },
   "file_extension": ".py",
   "mimetype": "text/x-python",
   "name": "python",
   "nbconvert_exporter": "python",
   "pygments_lexer": "ipython3",
   "version": "3.6.10"
  }
 },
 "nbformat": 4,
 "nbformat_minor": 4
}
