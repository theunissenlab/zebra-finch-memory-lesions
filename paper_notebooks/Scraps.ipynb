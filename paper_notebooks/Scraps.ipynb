{
 "cells": [
  {
   "cell_type": "code",
   "execution_count": null,
   "id": "7f6aa23d",
   "metadata": {},
   "outputs": [],
   "source": [
    "# i think all these will run if you just load the data\n",
    "\n",
    "treatment_filter = np.zeros_like(df.SubjectTreatment).astype(bool)\n",
    "for t in (\"HVC\", \"CTRL\"):\n",
    "    treatment_filter |= df.SubjectTreatment == t\n",
    "    \n",
    "tsvk_control = get_or_create_Tsvk(df[\n",
    "    (df.LesionStage == \"postlesion\")\n",
    "    & (df.VocalizerSet == \"S1\")\n",
    "    & treatment_filter\n",
    "], k_max=11)\n",
    "logOR_CTRL = tsvk_control.logOR()\n",
    "logOR_CTRL"
   ]
  },
  {
   "cell_type": "code",
   "execution_count": null,
   "id": "769f3225",
   "metadata": {},
   "outputs": [],
   "source": [
    "tsvk_NCM = get_or_create_Tsvk(df[\n",
    "    (df.LesionStage == \"postlesion\")\n",
    "    & (df.VocalizerSet == \"S1\")\n",
    "    & (df.SubjectTreatment == \"NCM\")\n",
    "], k_max=11)\n",
    "logOR_NCM = tsvk_NCM.logOR()\n",
    "logOR_NCM"
   ]
  },
  {
   "cell_type": "code",
   "execution_count": null,
   "id": "413cd61d",
   "metadata": {},
   "outputs": [],
   "source": [
    "def statistic(x, y, axis):\n",
    "\n",
    "    return np.mean(x, axis=axis) - np.mean(y, axis=axis)"
   ]
  },
  {
   "cell_type": "code",
   "execution_count": null,
   "id": "6972bc9f",
   "metadata": {},
   "outputs": [],
   "source": [
    "def d_prime(logOR_CTRL_tsvk, logOR_NCM_tsvk, axis):\n",
    "\n",
    "    logOR_CTRL_tsvk = logOR_CTRL_tsvk.logOR()\n",
    "    logOR_NCM_tsvk = logOR_NCM_tsvk.logOR()\n",
    "    \n",
    "    diff_logOR = logOR_CTRL_tsvk[\"logOR\"]-logOR_NCM_tsvk[\"logOR\"]\n",
    "    \n",
    "    # normalization term\n",
    "    nNCM = logOR_NCM_tsvk[\"dof\"] + 1\n",
    "    nCTRL = logOR_CTRL_tsvk[\"dof\"] + 1\n",
    "    var_NCM = logOR_NCM_tsvk[\"SE\"]**2 * nNCM \n",
    "    var_CTRL = logOR_CTRL_tsvk[\"SE\"]**2 * nCTRL\n",
    "    norm_var = np.sqrt(var_NCM * nNCM + var_CTRL * nCTRL / (nNCM + nCTRL))\n",
    "    \n",
    "    # effect size of NCM lesion on memory\n",
    "    d_prime = (np.sqrt(2) * diff_logOR) / norm_var\n",
    "\n",
    "    return d_prime"
   ]
  },
  {
   "cell_type": "code",
   "execution_count": null,
   "id": "f17feab7",
   "metadata": {},
   "outputs": [],
   "source": [
    "x = tsvk_NCM\n",
    "y = tsvk_control\n",
    "\n",
    "d_prime(x,y,axis = 0)"
   ]
  },
  {
   "cell_type": "code",
   "execution_count": null,
   "id": "f4cea15c",
   "metadata": {},
   "outputs": [],
   "source": [
    "x = tsvk_NCM.logOR_by_subjects(0)\n",
    "y = tsvk_control.logOR_by_subjects(0)\n",
    "\n",
    "d_prime(x,y,axis = 0)"
   ]
  },
  {
   "cell_type": "code",
   "execution_count": null,
   "id": "347642d6",
   "metadata": {},
   "outputs": [],
   "source": [
    "# difference of the logORs\n",
    "diff_logOR = logOR_CTRL[\"logOR\"]-logOR_NCM[\"logOR\"]\n",
    "    \n",
    "# normalization term\n",
    "nNCM = logOR_NCM[\"dof\"] + 1\n",
    "nCTRL = logOR_CTRL[\"dof\"] + 1\n",
    "var_NCM = logOR_NCM[\"SE\"]**2 * nNCM \n",
    "var_CTRL = logOR_CTRL[\"SE\"]**2 * nCTRL\n",
    "norm_var = np.sqrt(var_NCM * nNCM + var_CTRL * nCTRL / (nNCM + nCTRL))\n",
    "    \n",
    "# effect size of NCM lesion on memory\n",
    "d_prime = (np.sqrt(2) * diff_logOR) / norm_var\n",
    "\n",
    "x = tsvk_NCM.logOR_by_subjects(0)['logOR']\n",
    "y = tsvk_control.logOR_by_subjects(0)['logOR']\n",
    "\n",
    "stat = (d_prime[0])\n",
    "\n",
    "res = permutation_test((x, y), stat, vectorized=True,\n",
    "                       n_resamples=92378, alternative='less')\n",
    "print(res.stat)\n",
    "print(res.pvalue)"
   ]
  },
  {
   "cell_type": "code",
   "execution_count": 3,
   "id": "46a03878",
   "metadata": {},
   "outputs": [],
   "source": [
    "from scipy.stats import norm\n",
    "import numpy as np\n",
    "rng = np.random.default_rng()\n",
    "\n",
    "x = norm.rvs(size=5, random_state=rng)\n",
    "\n",
    "y = norm.rvs(size=6, loc = 3, random_state=rng)"
   ]
  },
  {
   "cell_type": "code",
   "execution_count": 4,
   "id": "fb43386e",
   "metadata": {},
   "outputs": [
    {
     "data": {
      "text/plain": [
       "array([ 0.07984521, -0.46785064, -0.07887365, -0.70315086,  0.34163041])"
      ]
     },
     "execution_count": 4,
     "metadata": {},
     "output_type": "execute_result"
    }
   ],
   "source": [
    "x"
   ]
  },
  {
   "cell_type": "code",
   "execution_count": 5,
   "id": "cd440be8",
   "metadata": {},
   "outputs": [
    {
     "data": {
      "text/plain": [
       "array([3.9677425 , 3.31636434, 3.16185407, 1.6994018 , 3.70496176,\n",
       "       2.12625357])"
      ]
     },
     "execution_count": 5,
     "metadata": {},
     "output_type": "execute_result"
    }
   ],
   "source": [
    "y"
   ]
  },
  {
   "cell_type": "code",
   "execution_count": 8,
   "id": "323a050a",
   "metadata": {},
   "outputs": [
    {
     "name": "stdout",
     "output_type": "stream",
     "text": [
      "0\n",
      "1\n",
      "2\n",
      "3\n",
      "4\n",
      "5\n",
      "6\n",
      "7\n",
      "8\n",
      "9\n",
      "10\n"
     ]
    }
   ],
   "source": [
    "x = 11\n",
    "for n in range(0,x):\n",
    "  print(n) "
   ]
  },
  {
   "cell_type": "code",
   "execution_count": null,
   "id": "57b2eb8d",
   "metadata": {},
   "outputs": [],
   "source": [
    "def d_prime_by_hand(logOR_by_subj_CTRL, logOR_by_subj_NCM):\n",
    "    \n",
    "    \"\"\"returns a single value for d_prime from two arrays of of logORs, ctrl and NCM\n",
    "    \n",
    "        degrees of freedom are HARD CODED and this calculation should not be used elsewhere\n",
    "        \n",
    "        logOR_by_subjs input parameters are extracted from tsvk.logOR_by_subjects(k) objects.\n",
    "        example: tsvkobj = tsvk.logOR_by_subjects(k)    ## must chose a k value\n",
    "                 logOR_by_subj = tsvkobj['logOR']\n",
    "    \"\"\"\n",
    "    \n",
    "    mean_NCM, SE_NCM = jackknife(logOR_by_subj_NCM, np.mean)\n",
    "    mean_ctrl, SE_ctrl = jackknife(logOR_by_subj_CTRL, np.mean)\n",
    "    \n",
    "    diff_logOR = mean_ctrl-mean_NCM\n",
    "    \n",
    "    # normalization term\n",
    "    # note that dof is HARD CODED for control versus NCM groups \n",
    "    nNCM = 9 + 1    # 9 dof for NCM subjects\n",
    "    nCTRL = 10 + 1  # 10 dof for ctrl and HVC subjects combined\n",
    "    var_NCM = SE_NCM**2 * nNCM \n",
    "    var_CTRL = SE_ctrl**2 * nCTRL\n",
    "    norm_var = np.sqrt(var_NCM * nNCM + var_CTRL * nCTRL / (nNCM + nCTRL))\n",
    "    \n",
    "    # effect size of NCM lesion on memory\n",
    "    d_prime = (np.sqrt(2) * diff_logOR) / norm_var\n",
    "\n",
    "    return d_prime"
   ]
  }
 ],
 "metadata": {
  "kernelspec": {
   "display_name": "Python 3 (ipykernel)",
   "language": "python",
   "name": "python3"
  },
  "language_info": {
   "codemirror_mode": {
    "name": "ipython",
    "version": 3
   },
   "file_extension": ".py",
   "mimetype": "text/x-python",
   "name": "python",
   "nbconvert_exporter": "python",
   "pygments_lexer": "ipython3",
   "version": "3.9.13"
  }
 },
 "nbformat": 4,
 "nbformat_minor": 5
}
