{
 "cells": [
  {
   "cell_type": "code",
   "execution_count": 1,
   "id": "b5b397bc",
   "metadata": {},
   "outputs": [],
   "source": [
    "import matplotlib.pyplot as plt\n",
    "import numpy as np"
   ]
  },
  {
   "cell_type": "code",
   "execution_count": 2,
   "id": "1e1c0b9e",
   "metadata": {},
   "outputs": [],
   "source": [
    "T = np.arange(2,20)\n",
    "\n",
    "pval = (T-1)/T\n",
    "sePval = np.sqrt(1/T)*np.sqrt(pval*(1-pval))\n",
    "sePval2 = (1/T)*np.sqrt(pval)\n",
    "odds = T-1\n",
    "seOdds = np.exp(np.sqrt(1 + 1/odds))\n",
    "\n",
    "seLogOdds = np.sqrt(1 + 1/odds)"
   ]
  },
  {
   "cell_type": "code",
   "execution_count": 3,
   "id": "bb75f552",
   "metadata": {
    "scrolled": true
   },
   "outputs": [
    {
     "data": {
      "image/png": "[encoded data removed]",
      "text/plain": [
       "<Figure size 432x288 with 3 Axes>"
      ]
     },
     "metadata": {
      "needs_background": "light"
     },
     "output_type": "display_data"
    }
   ],
   "source": [
    "ax1 = plt.subplot(3,1,1)\n",
    "plt.plot(T, pval, 'k')\n",
    "plt.fill_between(T, pval-sePval, pval+sePval)\n",
    "# plt.xlabel('Trials')\n",
    "plt.ylabel('Prob (Int)')\n",
    "ax1.axes.xaxis.set_ticklabels([])\n",
    "\n",
    "ax2 = plt.subplot(3,1,2)\n",
    "plt.plot(T, odds, 'k')\n",
    "plt.fill_between(T, odds-seOdds, odds+seOdds)\n",
    "#plt.xlabel('Trials')\n",
    "plt.ylabel('Odds')\n",
    "ax2.axes.xaxis.set_ticklabels([])\n",
    "\n",
    "plt.subplot(3,1,3)\n",
    "plt.plot(T, np.log(odds), 'k')\n",
    "plt.fill_between(T, np.log(odds)-seLogOdds, np.log(odds)+seLogOdds)\n",
    "plt.xlabel('Trials')\n",
    "plt.ylabel('Log(Odds)')\n",
    "\n",
    "plt.savefig('/Users/frederictheunissen/Desktop/probSE.eps')"
   ]
  },
  {
   "cell_type": "code",
   "execution_count": 21,
   "id": "cb29cccc",
   "metadata": {},
   "outputs": [
    {
     "data": {
      "text/plain": [
       "array([0.35355339, 0.27216553, 0.21650635, 0.17888544, 0.15214515,\n",
       "       0.13226001, 0.11692679, 0.10475656, 0.09486833, 0.08667842,\n",
       "       0.07978559, 0.0739053 , 0.06883029, 0.06440612, 0.06051536,\n",
       "       0.05706721, 0.0539903 , 0.05122782])"
      ]
     },
     "execution_count": 21,
     "metadata": {},
     "output_type": "execute_result"
    }
   ],
   "source": [
    "sePval"
   ]
  },
  {
   "cell_type": "code",
   "execution_count": 22,
   "id": "323d6982",
   "metadata": {},
   "outputs": [
    {
     "data": {
      "text/plain": [
       "array([0.35355339, 0.27216553, 0.21650635, 0.17888544, 0.15214515,\n",
       "       0.13226001, 0.11692679, 0.10475656, 0.09486833, 0.08667842,\n",
       "       0.07978559, 0.0739053 , 0.06883029, 0.06440612, 0.06051536,\n",
       "       0.05706721, 0.0539903 , 0.05122782])"
      ]
     },
     "execution_count": 22,
     "metadata": {},
     "output_type": "execute_result"
    }
   ],
   "source": [
    "sePval2"
   ]
  },
  {
   "cell_type": "code",
   "execution_count": 23,
   "id": "498e1ea9",
   "metadata": {},
   "outputs": [
    {
     "data": {
      "text/plain": [
       "array([4.11325038, 3.40329769, 3.17307306, 3.05883458, 2.99051351,\n",
       "       2.94504309, 2.91259655, 2.88827712, 2.86937017, 2.85424925,\n",
       "       2.84188037, 2.83157473, 2.82285573, 2.81538308, 2.80890734,\n",
       "       2.80324144, 2.79824241, 2.79379904])"
      ]
     },
     "execution_count": 23,
     "metadata": {},
     "output_type": "execute_result"
    }
   ],
   "source": [
    "seOdds"
   ]
  },
  {
   "cell_type": "code",
   "execution_count": 4,
   "id": "d43ad5a3",
   "metadata": {},
   "outputs": [
    {
     "data": {
      "text/plain": [
       "array([1.41421356, 1.22474487, 1.15470054, 1.11803399, 1.09544512,\n",
       "       1.08012345, 1.06904497, 1.06066017, 1.05409255, 1.04880885,\n",
       "       1.04446594, 1.040833  , 1.03774904, 1.03509834, 1.03279556,\n",
       "       1.03077641, 1.02899151, 1.02740233])"
      ]
     },
     "execution_count": 4,
     "metadata": {},
     "output_type": "execute_result"
    }
   ],
   "source": [
    "seLogOdds"
   ]
  },
  {
   "cell_type": "code",
   "execution_count": null,
   "id": "e6b8b582",
   "metadata": {},
   "outputs": [],
   "source": []
  }
 ],
 "metadata": {
  "kernelspec": {
   "display_name": "Python 3 (ipykernel)",
   "language": "python",
   "name": "python3"
  },
  "language_info": {
   "codemirror_mode": {
    "name": "ipython",
    "version": 3
   },
   "file_extension": ".py",
   "mimetype": "text/x-python",
   "name": "python",
   "nbconvert_exporter": "python",
   "pygments_lexer": "ipython3",
   "version": "3.9.12"
  }
 },
 "nbformat": 4,
 "nbformat_minor": 5
}
